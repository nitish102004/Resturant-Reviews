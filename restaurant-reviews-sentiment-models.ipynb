{
 "cells": [
  {
   "cell_type": "markdown",
   "id": "79a33a07",
   "metadata": {
    "papermill": {
     "duration": 0.013364,
     "end_time": "2023-09-04T02:25:37.264236",
     "exception": false,
     "start_time": "2023-09-04T02:25:37.250872",
     "status": "completed"
    },
    "tags": []
   },
   "source": [
    "<div style=\"padding:20px;color:white;margin:0;font-size:300%;text-align:center;display:fill;border-radius:60px;background-color:#005959;overflow:hidden;font-weight:800\">Restaurant Reviews</div>"
   ]
  },
  {
   "cell_type": "code",
   "execution_count": 1,
   "id": "801d6fbb",
   "metadata": {
    "_cell_guid": "b1076dfc-b9ad-4769-8c92-a6c4dae69d19",
    "_uuid": "8f2839f25d086af736a60e9eeb907d3b93b6e0e5",
    "execution": {
     "iopub.execute_input": "2023-09-04T02:25:37.292212Z",
     "iopub.status.busy": "2023-09-04T02:25:37.291429Z",
     "iopub.status.idle": "2023-09-04T02:25:37.671537Z",
     "shell.execute_reply": "2023-09-04T02:25:37.670468Z"
    },
    "papermill": {
     "duration": 0.397694,
     "end_time": "2023-09-04T02:25:37.674906",
     "exception": false,
     "start_time": "2023-09-04T02:25:37.277212",
     "status": "completed"
    },
    "tags": []
   },
   "outputs": [
    {
     "name": "stdout",
     "output_type": "stream",
     "text": [
      "/kaggle/input/restaurant-reviews/Restaurant reviews.csv\n"
     ]
    }
   ],
   "source": [
    "# This Python 3 environment comes with many helpful analytics libraries installed\n",
    "# It is defined by the kaggle/python Docker image: https://github.com/kaggle/docker-python\n",
    "# For example, here's several helpful packages to load\n",
    "\n",
    "import numpy as np # linear algebra\n",
    "import pandas as pd # data processing, CSV file I/O (e.g. pd.read_csv)\n",
    "\n",
    "# Input data files are available in the read-only \"../input/\" directory\n",
    "# For example, running this (by clicking run or pressing Shift+Enter) will list all files under the input directory\n",
    "\n",
    "import os\n",
    "for dirname, _, filenames in os.walk('/kaggle/input'):\n",
    "    for filename in filenames:\n",
    "        print(os.path.join(dirname, filename))\n",
    "\n",
    "# You can write up to 20GB to the current directory (/kaggle/working/) that gets preserved as output when you create a version using \"Save & Run All\" \n",
    "# You can also write temporary files to /kaggle/temp/, but they won't be saved outside of the current session"
   ]
  },
  {
   "cell_type": "markdown",
   "id": "6771900e",
   "metadata": {
    "papermill": {
     "duration": 0.012973,
     "end_time": "2023-09-04T02:25:37.701726",
     "exception": false,
     "start_time": "2023-09-04T02:25:37.688753",
     "status": "completed"
    },
    "tags": []
   },
   "source": [
    "## <b><div style='padding:15px;background-color:#005959;color:white;border-radius:40px;font-size:110%;text-align: center'>1  |  About Dataset</div></b>"
   ]
  },
  {
   "cell_type": "markdown",
   "id": "f7c18915",
   "metadata": {
    "papermill": {
     "duration": 0.013655,
     "end_time": "2023-09-04T02:25:37.728315",
     "exception": false,
     "start_time": "2023-09-04T02:25:37.714660",
     "status": "completed"
    },
    "tags": []
   },
   "source": [
    "Dataset of restaurant reviews with 10000 rows and 8 columns\n",
    "\n",
    "Dataset has 10000 rows and 8 columns.\n",
    "\n",
    "Try to perform NLP by using the \"Review\" and \"Rating columns\"\n",
    "\n",
    "Try sentiment analysis by considering rating above 3 as \"Positive\" and below 3 as \"Negative\""
   ]
  },
  {
   "cell_type": "markdown",
   "id": "b67a80aa",
   "metadata": {
    "papermill": {
     "duration": 0.013129,
     "end_time": "2023-09-04T02:25:37.754920",
     "exception": false,
     "start_time": "2023-09-04T02:25:37.741791",
     "status": "completed"
    },
    "tags": []
   },
   "source": [
    "## <b><div style='padding:15px;background-color:#005959;color:white;border-radius:40px;font-size:110%;text-align: center'>2  |  Importing Libraries</div></b>"
   ]
  },
  {
   "cell_type": "code",
   "execution_count": 2,
   "id": "0afb18b0",
   "metadata": {
    "execution": {
     "iopub.execute_input": "2023-09-04T02:25:37.783887Z",
     "iopub.status.busy": "2023-09-04T02:25:37.782680Z",
     "iopub.status.idle": "2023-09-04T02:25:41.477886Z",
     "shell.execute_reply": "2023-09-04T02:25:41.476621Z"
    },
    "papermill": {
     "duration": 3.71249,
     "end_time": "2023-09-04T02:25:41.480353",
     "exception": false,
     "start_time": "2023-09-04T02:25:37.767863",
     "status": "completed"
    },
    "tags": []
   },
   "outputs": [
    {
     "name": "stdout",
     "output_type": "stream",
     "text": [
      "[nltk_data] Downloading package stopwords to /usr/share/nltk_data...\n",
      "[nltk_data]   Package stopwords is already up-to-date!\n"
     ]
    }
   ],
   "source": [
    "import pandas as pd\n",
    "import numpy as np\n",
    "import matplotlib.pyplot as plt\n",
    "import seaborn as sns\n",
    "import plotly.graph_objects as go\n",
    "import plotly.offline as pyo \n",
    "import plotly.io as pio\n",
    "import sklearn\n",
    "pd.set_option('display.max_columns',None)\n",
    "\n",
    "from sklearn.neighbors import KNeighborsClassifier\n",
    "from sklearn.svm import SVC, LinearSVC, NuSVC\n",
    "from sklearn.tree import DecisionTreeClassifier\n",
    "from sklearn.ensemble import RandomForestClassifier, AdaBoostClassifier, GradientBoostingClassifier\n",
    "from sklearn.naive_bayes import GaussianNB\n",
    "from sklearn.linear_model import LogisticRegression\n",
    "from sklearn.linear_model import SGDClassifier\n",
    "from catboost import CatBoostClassifier\n",
    "from xgboost import XGBClassifier\n",
    "\n",
    "from wordcloud import WordCloud,STOPWORDS\n",
    "from sklearn.feature_extraction.text import CountVectorizer\n",
    "from sklearn.model_selection import train_test_split\n",
    "from sklearn.model_selection import cross_val_predict, cross_val_score\n",
    "from sklearn.metrics import accuracy_score\n",
    "from sklearn.preprocessing import LabelEncoder\n",
    "\n",
    "import re\n",
    "import nltk\n",
    "from nltk.corpus import stopwords\n",
    "from nltk import word_tokenize\n",
    "nltk.download('stopwords')\n",
    "\n",
    "import warnings\n",
    "warnings.filterwarnings('ignore')"
   ]
  },
  {
   "cell_type": "markdown",
   "id": "e8e8f117",
   "metadata": {
    "papermill": {
     "duration": 0.012785,
     "end_time": "2023-09-04T02:25:41.506396",
     "exception": false,
     "start_time": "2023-09-04T02:25:41.493611",
     "status": "completed"
    },
    "tags": []
   },
   "source": [
    "## <b><div style='padding:15px;background-color:#005959;color:white;border-radius:40px;font-size:110%;text-align: center'>3  |  Downloading Dataset</div></b>"
   ]
  },
  {
   "cell_type": "code",
   "execution_count": 3,
   "id": "361bad6e",
   "metadata": {
    "execution": {
     "iopub.execute_input": "2023-09-04T02:25:41.533248Z",
     "iopub.status.busy": "2023-09-04T02:25:41.532875Z",
     "iopub.status.idle": "2023-09-04T02:25:41.675079Z",
     "shell.execute_reply": "2023-09-04T02:25:41.673712Z"
    },
    "papermill": {
     "duration": 0.158881,
     "end_time": "2023-09-04T02:25:41.677745",
     "exception": false,
     "start_time": "2023-09-04T02:25:41.518864",
     "status": "completed"
    },
    "tags": []
   },
   "outputs": [],
   "source": [
    "df = pd.read_csv(\"/kaggle/input/restaurant-reviews/Restaurant reviews.csv\")"
   ]
  },
  {
   "cell_type": "markdown",
   "id": "07422837",
   "metadata": {
    "papermill": {
     "duration": 0.012994,
     "end_time": "2023-09-04T02:25:41.703768",
     "exception": false,
     "start_time": "2023-09-04T02:25:41.690774",
     "status": "completed"
    },
    "tags": []
   },
   "source": [
    "## <b><div style='padding:15px;background-color:#005959;color:white;border-radius:40px;font-size:110%;text-align: center'>4  |  Inspecting and Cleaning Dataframe Structure</div></b>"
   ]
  },
  {
   "cell_type": "code",
   "execution_count": 4,
   "id": "f8b1d7f9",
   "metadata": {
    "execution": {
     "iopub.execute_input": "2023-09-04T02:25:41.732341Z",
     "iopub.status.busy": "2023-09-04T02:25:41.731490Z",
     "iopub.status.idle": "2023-09-04T02:25:41.759870Z",
     "shell.execute_reply": "2023-09-04T02:25:41.758679Z"
    },
    "papermill": {
     "duration": 0.046099,
     "end_time": "2023-09-04T02:25:41.762845",
     "exception": false,
     "start_time": "2023-09-04T02:25:41.716746",
     "status": "completed"
    },
    "tags": []
   },
   "outputs": [
    {
     "name": "stdout",
     "output_type": "stream",
     "text": [
      "### first 5 lines ### \n",
      "\n"
     ]
    },
    {
     "data": {
      "text/html": [
       "<div>\n",
       "<style scoped>\n",
       "    .dataframe tbody tr th:only-of-type {\n",
       "        vertical-align: middle;\n",
       "    }\n",
       "\n",
       "    .dataframe tbody tr th {\n",
       "        vertical-align: top;\n",
       "    }\n",
       "\n",
       "    .dataframe thead th {\n",
       "        text-align: right;\n",
       "    }\n",
       "</style>\n",
       "<table border=\"1\" class=\"dataframe\">\n",
       "  <thead>\n",
       "    <tr style=\"text-align: right;\">\n",
       "      <th></th>\n",
       "      <th>Restaurant</th>\n",
       "      <th>Reviewer</th>\n",
       "      <th>Review</th>\n",
       "      <th>Rating</th>\n",
       "      <th>Metadata</th>\n",
       "      <th>Time</th>\n",
       "      <th>Pictures</th>\n",
       "      <th>7514</th>\n",
       "    </tr>\n",
       "  </thead>\n",
       "  <tbody>\n",
       "    <tr>\n",
       "      <th>0</th>\n",
       "      <td>Beyond Flavours</td>\n",
       "      <td>Rusha Chakraborty</td>\n",
       "      <td>The ambience was good, food was quite good . h...</td>\n",
       "      <td>5</td>\n",
       "      <td>1 Review , 2 Followers</td>\n",
       "      <td>5/25/2019 15:54</td>\n",
       "      <td>0</td>\n",
       "      <td>2447.0</td>\n",
       "    </tr>\n",
       "    <tr>\n",
       "      <th>1</th>\n",
       "      <td>Beyond Flavours</td>\n",
       "      <td>Anusha Tirumalaneedi</td>\n",
       "      <td>Ambience is too good for a pleasant evening. S...</td>\n",
       "      <td>5</td>\n",
       "      <td>3 Reviews , 2 Followers</td>\n",
       "      <td>5/25/2019 14:20</td>\n",
       "      <td>0</td>\n",
       "      <td>NaN</td>\n",
       "    </tr>\n",
       "    <tr>\n",
       "      <th>2</th>\n",
       "      <td>Beyond Flavours</td>\n",
       "      <td>Ashok Shekhawat</td>\n",
       "      <td>A must try.. great food great ambience. Thnx f...</td>\n",
       "      <td>5</td>\n",
       "      <td>2 Reviews , 3 Followers</td>\n",
       "      <td>5/24/2019 22:54</td>\n",
       "      <td>0</td>\n",
       "      <td>NaN</td>\n",
       "    </tr>\n",
       "    <tr>\n",
       "      <th>3</th>\n",
       "      <td>Beyond Flavours</td>\n",
       "      <td>Swapnil Sarkar</td>\n",
       "      <td>Soumen das and Arun was a great guy. Only beca...</td>\n",
       "      <td>5</td>\n",
       "      <td>1 Review , 1 Follower</td>\n",
       "      <td>5/24/2019 22:11</td>\n",
       "      <td>0</td>\n",
       "      <td>NaN</td>\n",
       "    </tr>\n",
       "    <tr>\n",
       "      <th>4</th>\n",
       "      <td>Beyond Flavours</td>\n",
       "      <td>Dileep</td>\n",
       "      <td>Food is good.we ordered Kodi drumsticks and ba...</td>\n",
       "      <td>5</td>\n",
       "      <td>3 Reviews , 2 Followers</td>\n",
       "      <td>5/24/2019 21:37</td>\n",
       "      <td>0</td>\n",
       "      <td>NaN</td>\n",
       "    </tr>\n",
       "  </tbody>\n",
       "</table>\n",
       "</div>"
      ],
      "text/plain": [
       "        Restaurant              Reviewer  \\\n",
       "0  Beyond Flavours     Rusha Chakraborty   \n",
       "1  Beyond Flavours  Anusha Tirumalaneedi   \n",
       "2  Beyond Flavours       Ashok Shekhawat   \n",
       "3  Beyond Flavours        Swapnil Sarkar   \n",
       "4  Beyond Flavours                Dileep   \n",
       "\n",
       "                                              Review Rating  \\\n",
       "0  The ambience was good, food was quite good . h...      5   \n",
       "1  Ambience is too good for a pleasant evening. S...      5   \n",
       "2  A must try.. great food great ambience. Thnx f...      5   \n",
       "3  Soumen das and Arun was a great guy. Only beca...      5   \n",
       "4  Food is good.we ordered Kodi drumsticks and ba...      5   \n",
       "\n",
       "                  Metadata             Time  Pictures    7514  \n",
       "0   1 Review , 2 Followers  5/25/2019 15:54         0  2447.0  \n",
       "1  3 Reviews , 2 Followers  5/25/2019 14:20         0     NaN  \n",
       "2  2 Reviews , 3 Followers  5/24/2019 22:54         0     NaN  \n",
       "3    1 Review , 1 Follower  5/24/2019 22:11         0     NaN  \n",
       "4  3 Reviews , 2 Followers  5/24/2019 21:37         0     NaN  "
      ]
     },
     "execution_count": 4,
     "metadata": {},
     "output_type": "execute_result"
    }
   ],
   "source": [
    "# Check Dataset\n",
    "print('### first 5 lines ###','\\n')\n",
    "df.head()"
   ]
  },
  {
   "cell_type": "code",
   "execution_count": 5,
   "id": "f1ac6c9a",
   "metadata": {
    "execution": {
     "iopub.execute_input": "2023-09-04T02:25:41.791349Z",
     "iopub.status.busy": "2023-09-04T02:25:41.790900Z",
     "iopub.status.idle": "2023-09-04T02:25:41.805656Z",
     "shell.execute_reply": "2023-09-04T02:25:41.804515Z"
    },
    "papermill": {
     "duration": 0.031643,
     "end_time": "2023-09-04T02:25:41.807718",
     "exception": false,
     "start_time": "2023-09-04T02:25:41.776075",
     "status": "completed"
    },
    "tags": []
   },
   "outputs": [
    {
     "name": "stdout",
     "output_type": "stream",
     "text": [
      "### last 5 lines ### \n",
      "\n"
     ]
    },
    {
     "data": {
      "text/html": [
       "<div>\n",
       "<style scoped>\n",
       "    .dataframe tbody tr th:only-of-type {\n",
       "        vertical-align: middle;\n",
       "    }\n",
       "\n",
       "    .dataframe tbody tr th {\n",
       "        vertical-align: top;\n",
       "    }\n",
       "\n",
       "    .dataframe thead th {\n",
       "        text-align: right;\n",
       "    }\n",
       "</style>\n",
       "<table border=\"1\" class=\"dataframe\">\n",
       "  <thead>\n",
       "    <tr style=\"text-align: right;\">\n",
       "      <th></th>\n",
       "      <th>Restaurant</th>\n",
       "      <th>Reviewer</th>\n",
       "      <th>Review</th>\n",
       "      <th>Rating</th>\n",
       "      <th>Metadata</th>\n",
       "      <th>Time</th>\n",
       "      <th>Pictures</th>\n",
       "      <th>7514</th>\n",
       "    </tr>\n",
       "  </thead>\n",
       "  <tbody>\n",
       "    <tr>\n",
       "      <th>9995</th>\n",
       "      <td>Chinese Pavilion</td>\n",
       "      <td>Abhishek Mahajan</td>\n",
       "      <td>Madhumathi Mahajan Well to start with nice cou...</td>\n",
       "      <td>3</td>\n",
       "      <td>53 Reviews , 54 Followers</td>\n",
       "      <td>6/5/2016 0:08</td>\n",
       "      <td>0</td>\n",
       "      <td>NaN</td>\n",
       "    </tr>\n",
       "    <tr>\n",
       "      <th>9996</th>\n",
       "      <td>Chinese Pavilion</td>\n",
       "      <td>Sharad Agrawal</td>\n",
       "      <td>This place has never disappointed us.. The foo...</td>\n",
       "      <td>4.5</td>\n",
       "      <td>2 Reviews , 53 Followers</td>\n",
       "      <td>6/4/2016 22:01</td>\n",
       "      <td>0</td>\n",
       "      <td>NaN</td>\n",
       "    </tr>\n",
       "    <tr>\n",
       "      <th>9997</th>\n",
       "      <td>Chinese Pavilion</td>\n",
       "      <td>Ramandeep</td>\n",
       "      <td>Bad rating is mainly because of \"Chicken Bone ...</td>\n",
       "      <td>1.5</td>\n",
       "      <td>65 Reviews , 423 Followers</td>\n",
       "      <td>6/3/2016 10:37</td>\n",
       "      <td>3</td>\n",
       "      <td>NaN</td>\n",
       "    </tr>\n",
       "    <tr>\n",
       "      <th>9998</th>\n",
       "      <td>Chinese Pavilion</td>\n",
       "      <td>Nayana Shanbhag</td>\n",
       "      <td>I personally love and prefer Chinese Food. Had...</td>\n",
       "      <td>4</td>\n",
       "      <td>13 Reviews , 144 Followers</td>\n",
       "      <td>5/31/2016 17:22</td>\n",
       "      <td>0</td>\n",
       "      <td>NaN</td>\n",
       "    </tr>\n",
       "    <tr>\n",
       "      <th>9999</th>\n",
       "      <td>Chinese Pavilion</td>\n",
       "      <td>Bhargava Krishna</td>\n",
       "      <td>Checked in here to try some delicious chinese ...</td>\n",
       "      <td>3.5</td>\n",
       "      <td>472 Reviews , 1302 Followers</td>\n",
       "      <td>5/31/2016 16:41</td>\n",
       "      <td>6</td>\n",
       "      <td>NaN</td>\n",
       "    </tr>\n",
       "  </tbody>\n",
       "</table>\n",
       "</div>"
      ],
      "text/plain": [
       "            Restaurant          Reviewer  \\\n",
       "9995  Chinese Pavilion  Abhishek Mahajan   \n",
       "9996  Chinese Pavilion    Sharad Agrawal   \n",
       "9997  Chinese Pavilion         Ramandeep   \n",
       "9998  Chinese Pavilion   Nayana Shanbhag   \n",
       "9999  Chinese Pavilion  Bhargava Krishna   \n",
       "\n",
       "                                                 Review Rating  \\\n",
       "9995  Madhumathi Mahajan Well to start with nice cou...      3   \n",
       "9996  This place has never disappointed us.. The foo...    4.5   \n",
       "9997  Bad rating is mainly because of \"Chicken Bone ...    1.5   \n",
       "9998  I personally love and prefer Chinese Food. Had...      4   \n",
       "9999  Checked in here to try some delicious chinese ...    3.5   \n",
       "\n",
       "                          Metadata             Time  Pictures  7514  \n",
       "9995     53 Reviews , 54 Followers    6/5/2016 0:08         0   NaN  \n",
       "9996      2 Reviews , 53 Followers   6/4/2016 22:01         0   NaN  \n",
       "9997    65 Reviews , 423 Followers   6/3/2016 10:37         3   NaN  \n",
       "9998    13 Reviews , 144 Followers  5/31/2016 17:22         0   NaN  \n",
       "9999  472 Reviews , 1302 Followers  5/31/2016 16:41         6   NaN  "
      ]
     },
     "execution_count": 5,
     "metadata": {},
     "output_type": "execute_result"
    }
   ],
   "source": [
    "# Check Dataset\n",
    "print('### last 5 lines ###','\\n')\n",
    "df.tail()"
   ]
  },
  {
   "cell_type": "code",
   "execution_count": 6,
   "id": "34f4d8e3",
   "metadata": {
    "execution": {
     "iopub.execute_input": "2023-09-04T02:25:41.898562Z",
     "iopub.status.busy": "2023-09-04T02:25:41.897862Z",
     "iopub.status.idle": "2023-09-04T02:25:41.928481Z",
     "shell.execute_reply": "2023-09-04T02:25:41.927195Z"
    },
    "papermill": {
     "duration": 0.048869,
     "end_time": "2023-09-04T02:25:41.930903",
     "exception": false,
     "start_time": "2023-09-04T02:25:41.882034",
     "status": "completed"
    },
    "tags": []
   },
   "outputs": [
    {
     "name": "stdout",
     "output_type": "stream",
     "text": [
      "### Dataframe information ### \n",
      "\n",
      "<class 'pandas.core.frame.DataFrame'>\n",
      "RangeIndex: 10000 entries, 0 to 9999\n",
      "Data columns (total 8 columns):\n",
      " #   Column      Non-Null Count  Dtype  \n",
      "---  ------      --------------  -----  \n",
      " 0   Restaurant  10000 non-null  object \n",
      " 1   Reviewer    9962 non-null   object \n",
      " 2   Review      9955 non-null   object \n",
      " 3   Rating      9962 non-null   object \n",
      " 4   Metadata    9962 non-null   object \n",
      " 5   Time        9962 non-null   object \n",
      " 6   Pictures    10000 non-null  int64  \n",
      " 7   7514        1 non-null      float64\n",
      "dtypes: float64(1), int64(1), object(6)\n",
      "memory usage: 625.1+ KB\n"
     ]
    }
   ],
   "source": [
    "# Check Dataframe information\n",
    "print('### Dataframe information ###','\\n')\n",
    "df.info()"
   ]
  },
  {
   "cell_type": "code",
   "execution_count": 7,
   "id": "4123ff00",
   "metadata": {
    "execution": {
     "iopub.execute_input": "2023-09-04T02:25:41.961860Z",
     "iopub.status.busy": "2023-09-04T02:25:41.961182Z",
     "iopub.status.idle": "2023-09-04T02:25:41.971720Z",
     "shell.execute_reply": "2023-09-04T02:25:41.970682Z"
    },
    "papermill": {
     "duration": 0.028756,
     "end_time": "2023-09-04T02:25:41.974354",
     "exception": false,
     "start_time": "2023-09-04T02:25:41.945598",
     "status": "completed"
    },
    "tags": []
   },
   "outputs": [],
   "source": [
    "# delete column '7514' as it has only one non-null value\n",
    "\n",
    "df.drop([\"7514\"], axis=1, inplace=True)"
   ]
  },
  {
   "cell_type": "code",
   "execution_count": 8,
   "id": "8eef1825",
   "metadata": {
    "execution": {
     "iopub.execute_input": "2023-09-04T02:25:42.003802Z",
     "iopub.status.busy": "2023-09-04T02:25:42.003382Z",
     "iopub.status.idle": "2023-09-04T02:25:42.028429Z",
     "shell.execute_reply": "2023-09-04T02:25:42.027142Z"
    },
    "papermill": {
     "duration": 0.04284,
     "end_time": "2023-09-04T02:25:42.030953",
     "exception": false,
     "start_time": "2023-09-04T02:25:41.988113",
     "status": "completed"
    },
    "tags": []
   },
   "outputs": [
    {
     "name": "stdout",
     "output_type": "stream",
     "text": [
      "Number of duplicates: 36\n"
     ]
    }
   ],
   "source": [
    "# Check duplicate data\n",
    "\n",
    "print(\"Number of duplicates: \" + str(df.duplicated().sum()))"
   ]
  },
  {
   "cell_type": "markdown",
   "id": "85520b65",
   "metadata": {
    "papermill": {
     "duration": 0.013331,
     "end_time": "2023-09-04T02:25:42.058070",
     "exception": false,
     "start_time": "2023-09-04T02:25:42.044739",
     "status": "completed"
    },
    "tags": []
   },
   "source": [
    "<div class=\"alert alert-block alert-info\" style=\"background-color:#d5f4da;color:#005959;border-color:black;width:80%;margin: auto;text-align: center;\"><b>Comment:</b> There are 36 duplicate data in the dataset. Let's delete them\n",
    "</div>"
   ]
  },
  {
   "cell_type": "code",
   "execution_count": 9,
   "id": "50d0ba1c",
   "metadata": {
    "execution": {
     "iopub.execute_input": "2023-09-04T02:25:42.087064Z",
     "iopub.status.busy": "2023-09-04T02:25:42.086659Z",
     "iopub.status.idle": "2023-09-04T02:25:42.103995Z",
     "shell.execute_reply": "2023-09-04T02:25:42.103061Z"
    },
    "papermill": {
     "duration": 0.03471,
     "end_time": "2023-09-04T02:25:42.106362",
     "exception": false,
     "start_time": "2023-09-04T02:25:42.071652",
     "status": "completed"
    },
    "tags": []
   },
   "outputs": [],
   "source": [
    "# Delete duplicate data\n",
    "\n",
    "df.drop_duplicates(inplace = True)"
   ]
  },
  {
   "cell_type": "code",
   "execution_count": 10,
   "id": "fef91e45",
   "metadata": {
    "execution": {
     "iopub.execute_input": "2023-09-04T02:25:42.136259Z",
     "iopub.status.busy": "2023-09-04T02:25:42.135842Z",
     "iopub.status.idle": "2023-09-04T02:25:42.148753Z",
     "shell.execute_reply": "2023-09-04T02:25:42.147713Z"
    },
    "papermill": {
     "duration": 0.030374,
     "end_time": "2023-09-04T02:25:42.150764",
     "exception": false,
     "start_time": "2023-09-04T02:25:42.120390",
     "status": "completed"
    },
    "tags": []
   },
   "outputs": [
    {
     "name": "stdout",
     "output_type": "stream",
     "text": [
      "### Null Data ### \n",
      "\n"
     ]
    },
    {
     "data": {
      "text/plain": [
       "Restaurant    0\n",
       "Reviewer      2\n",
       "Review        9\n",
       "Rating        2\n",
       "Metadata      2\n",
       "Time          2\n",
       "Pictures      0\n",
       "dtype: int64"
      ]
     },
     "execution_count": 10,
     "metadata": {},
     "output_type": "execute_result"
    }
   ],
   "source": [
    "# Null Data\n",
    "print('### Null Data ###','\\n')\n",
    "df.isna().sum()"
   ]
  },
  {
   "cell_type": "code",
   "execution_count": 11,
   "id": "6635ec8c",
   "metadata": {
    "execution": {
     "iopub.execute_input": "2023-09-04T02:25:42.180831Z",
     "iopub.status.busy": "2023-09-04T02:25:42.180040Z",
     "iopub.status.idle": "2023-09-04T02:25:42.190153Z",
     "shell.execute_reply": "2023-09-04T02:25:42.189298Z"
    },
    "papermill": {
     "duration": 0.027668,
     "end_time": "2023-09-04T02:25:42.192264",
     "exception": false,
     "start_time": "2023-09-04T02:25:42.164596",
     "status": "completed"
    },
    "tags": []
   },
   "outputs": [],
   "source": [
    "# Let's exclude null values.\n",
    "df = df.dropna()"
   ]
  },
  {
   "cell_type": "code",
   "execution_count": 12,
   "id": "5d02d841",
   "metadata": {
    "execution": {
     "iopub.execute_input": "2023-09-04T02:25:42.222216Z",
     "iopub.status.busy": "2023-09-04T02:25:42.221612Z",
     "iopub.status.idle": "2023-09-04T02:25:42.234584Z",
     "shell.execute_reply": "2023-09-04T02:25:42.233362Z"
    },
    "papermill": {
     "duration": 0.030396,
     "end_time": "2023-09-04T02:25:42.236662",
     "exception": false,
     "start_time": "2023-09-04T02:25:42.206266",
     "status": "completed"
    },
    "tags": []
   },
   "outputs": [
    {
     "name": "stdout",
     "output_type": "stream",
     "text": [
      "### Null Data ### \n",
      "\n"
     ]
    },
    {
     "data": {
      "text/plain": [
       "Restaurant    0\n",
       "Reviewer      0\n",
       "Review        0\n",
       "Rating        0\n",
       "Metadata      0\n",
       "Time          0\n",
       "Pictures      0\n",
       "dtype: int64"
      ]
     },
     "execution_count": 12,
     "metadata": {},
     "output_type": "execute_result"
    }
   ],
   "source": [
    "# Null Data\n",
    "print('### Null Data ###','\\n')\n",
    "df.isna().sum()"
   ]
  },
  {
   "cell_type": "code",
   "execution_count": 13,
   "id": "c268d4bb",
   "metadata": {
    "execution": {
     "iopub.execute_input": "2023-09-04T02:25:42.267678Z",
     "iopub.status.busy": "2023-09-04T02:25:42.266966Z",
     "iopub.status.idle": "2023-09-04T02:25:42.272863Z",
     "shell.execute_reply": "2023-09-04T02:25:42.272077Z"
    },
    "papermill": {
     "duration": 0.024252,
     "end_time": "2023-09-04T02:25:42.275264",
     "exception": false,
     "start_time": "2023-09-04T02:25:42.251012",
     "status": "completed"
    },
    "tags": []
   },
   "outputs": [
    {
     "name": "stdout",
     "output_type": "stream",
     "text": [
      "Rows   : 9955\n",
      "Columns: 7\n"
     ]
    }
   ],
   "source": [
    "# Check row and column numbers\n",
    "\n",
    "rows = df.shape[0] \n",
    "cols = df.shape[1] \n",
    "print(\"Rows   : \" + str(rows)) \n",
    "print(\"Columns: \" + str(cols))"
   ]
  },
  {
   "cell_type": "code",
   "execution_count": 14,
   "id": "ce2c7fd4",
   "metadata": {
    "execution": {
     "iopub.execute_input": "2023-09-04T02:25:42.306037Z",
     "iopub.status.busy": "2023-09-04T02:25:42.304889Z",
     "iopub.status.idle": "2023-09-04T02:25:42.324351Z",
     "shell.execute_reply": "2023-09-04T02:25:42.323363Z"
    },
    "papermill": {
     "duration": 0.036833,
     "end_time": "2023-09-04T02:25:42.326551",
     "exception": false,
     "start_time": "2023-09-04T02:25:42.289718",
     "status": "completed"
    },
    "tags": []
   },
   "outputs": [
    {
     "name": "stdout",
     "output_type": "stream",
     "text": [
      "### Numerical features ### \n",
      "\n"
     ]
    },
    {
     "data": {
      "text/html": [
       "<div>\n",
       "<style scoped>\n",
       "    .dataframe tbody tr th:only-of-type {\n",
       "        vertical-align: middle;\n",
       "    }\n",
       "\n",
       "    .dataframe tbody tr th {\n",
       "        vertical-align: top;\n",
       "    }\n",
       "\n",
       "    .dataframe thead th {\n",
       "        text-align: right;\n",
       "    }\n",
       "</style>\n",
       "<table border=\"1\" class=\"dataframe\">\n",
       "  <thead>\n",
       "    <tr style=\"text-align: right;\">\n",
       "      <th></th>\n",
       "      <th>Pictures</th>\n",
       "    </tr>\n",
       "  </thead>\n",
       "  <tbody>\n",
       "    <tr>\n",
       "      <th>count</th>\n",
       "      <td>9955.000000</td>\n",
       "    </tr>\n",
       "    <tr>\n",
       "      <th>mean</th>\n",
       "      <td>0.751984</td>\n",
       "    </tr>\n",
       "    <tr>\n",
       "      <th>std</th>\n",
       "      <td>2.575691</td>\n",
       "    </tr>\n",
       "    <tr>\n",
       "      <th>min</th>\n",
       "      <td>0.000000</td>\n",
       "    </tr>\n",
       "    <tr>\n",
       "      <th>25%</th>\n",
       "      <td>0.000000</td>\n",
       "    </tr>\n",
       "    <tr>\n",
       "      <th>50%</th>\n",
       "      <td>0.000000</td>\n",
       "    </tr>\n",
       "    <tr>\n",
       "      <th>75%</th>\n",
       "      <td>0.000000</td>\n",
       "    </tr>\n",
       "    <tr>\n",
       "      <th>max</th>\n",
       "      <td>64.000000</td>\n",
       "    </tr>\n",
       "  </tbody>\n",
       "</table>\n",
       "</div>"
      ],
      "text/plain": [
       "          Pictures\n",
       "count  9955.000000\n",
       "mean      0.751984\n",
       "std       2.575691\n",
       "min       0.000000\n",
       "25%       0.000000\n",
       "50%       0.000000\n",
       "75%       0.000000\n",
       "max      64.000000"
      ]
     },
     "execution_count": 14,
     "metadata": {},
     "output_type": "execute_result"
    }
   ],
   "source": [
    "# Numerical features\n",
    "print('### Numerical features ###','\\n')\n",
    "df.describe(exclude=['O'])"
   ]
  },
  {
   "cell_type": "code",
   "execution_count": 15,
   "id": "c70ccce6",
   "metadata": {
    "execution": {
     "iopub.execute_input": "2023-09-04T02:25:42.357570Z",
     "iopub.status.busy": "2023-09-04T02:25:42.356938Z",
     "iopub.status.idle": "2023-09-04T02:25:42.395525Z",
     "shell.execute_reply": "2023-09-04T02:25:42.394366Z"
    },
    "papermill": {
     "duration": 0.056541,
     "end_time": "2023-09-04T02:25:42.397719",
     "exception": false,
     "start_time": "2023-09-04T02:25:42.341178",
     "status": "completed"
    },
    "tags": []
   },
   "outputs": [
    {
     "name": "stdout",
     "output_type": "stream",
     "text": [
      "### Categorical features ### \n",
      "\n"
     ]
    },
    {
     "data": {
      "text/html": [
       "<div>\n",
       "<style scoped>\n",
       "    .dataframe tbody tr th:only-of-type {\n",
       "        vertical-align: middle;\n",
       "    }\n",
       "\n",
       "    .dataframe tbody tr th {\n",
       "        vertical-align: top;\n",
       "    }\n",
       "\n",
       "    .dataframe thead th {\n",
       "        text-align: right;\n",
       "    }\n",
       "</style>\n",
       "<table border=\"1\" class=\"dataframe\">\n",
       "  <thead>\n",
       "    <tr style=\"text-align: right;\">\n",
       "      <th></th>\n",
       "      <th>Restaurant</th>\n",
       "      <th>Reviewer</th>\n",
       "      <th>Review</th>\n",
       "      <th>Rating</th>\n",
       "      <th>Metadata</th>\n",
       "      <th>Time</th>\n",
       "    </tr>\n",
       "  </thead>\n",
       "  <tbody>\n",
       "    <tr>\n",
       "      <th>count</th>\n",
       "      <td>9955</td>\n",
       "      <td>9955</td>\n",
       "      <td>9955</td>\n",
       "      <td>9955</td>\n",
       "      <td>9955</td>\n",
       "      <td>9955</td>\n",
       "    </tr>\n",
       "    <tr>\n",
       "      <th>unique</th>\n",
       "      <td>100</td>\n",
       "      <td>7442</td>\n",
       "      <td>9364</td>\n",
       "      <td>10</td>\n",
       "      <td>2477</td>\n",
       "      <td>9775</td>\n",
       "    </tr>\n",
       "    <tr>\n",
       "      <th>top</th>\n",
       "      <td>Beyond Flavours</td>\n",
       "      <td>Ankita</td>\n",
       "      <td>good</td>\n",
       "      <td>5</td>\n",
       "      <td>1 Review</td>\n",
       "      <td>7/29/2018 20:34</td>\n",
       "    </tr>\n",
       "    <tr>\n",
       "      <th>freq</th>\n",
       "      <td>100</td>\n",
       "      <td>13</td>\n",
       "      <td>237</td>\n",
       "      <td>3826</td>\n",
       "      <td>916</td>\n",
       "      <td>3</td>\n",
       "    </tr>\n",
       "  </tbody>\n",
       "</table>\n",
       "</div>"
      ],
      "text/plain": [
       "             Restaurant Reviewer Review Rating  Metadata             Time\n",
       "count              9955     9955   9955   9955      9955             9955\n",
       "unique              100     7442   9364     10      2477             9775\n",
       "top     Beyond Flavours   Ankita   good      5  1 Review  7/29/2018 20:34\n",
       "freq                100       13    237   3826       916                3"
      ]
     },
     "execution_count": 15,
     "metadata": {},
     "output_type": "execute_result"
    }
   ],
   "source": [
    "# Categorical features\n",
    "print('### Categorical features ###','\\n')\n",
    "df.describe(include=['O'])"
   ]
  },
  {
   "cell_type": "code",
   "execution_count": 16,
   "id": "fad869de",
   "metadata": {
    "execution": {
     "iopub.execute_input": "2023-09-04T02:25:42.428674Z",
     "iopub.status.busy": "2023-09-04T02:25:42.428236Z",
     "iopub.status.idle": "2023-09-04T02:25:42.454109Z",
     "shell.execute_reply": "2023-09-04T02:25:42.453085Z"
    },
    "papermill": {
     "duration": 0.044015,
     "end_time": "2023-09-04T02:25:42.456475",
     "exception": false,
     "start_time": "2023-09-04T02:25:42.412460",
     "status": "completed"
    },
    "tags": []
   },
   "outputs": [
    {
     "data": {
      "text/plain": [
       "Restaurant     100\n",
       "Reviewer      7442\n",
       "Review        9364\n",
       "Rating          10\n",
       "Metadata      2477\n",
       "Time          9775\n",
       "Pictures        36\n",
       "dtype: int64"
      ]
     },
     "execution_count": 16,
     "metadata": {},
     "output_type": "execute_result"
    }
   ],
   "source": [
    "# Number of unique values per column.\n",
    "\n",
    "df.nunique()"
   ]
  },
  {
   "cell_type": "code",
   "execution_count": 17,
   "id": "80cef789",
   "metadata": {
    "execution": {
     "iopub.execute_input": "2023-09-04T02:25:42.488158Z",
     "iopub.status.busy": "2023-09-04T02:25:42.487748Z",
     "iopub.status.idle": "2023-09-04T02:25:42.497331Z",
     "shell.execute_reply": "2023-09-04T02:25:42.496197Z"
    },
    "papermill": {
     "duration": 0.027676,
     "end_time": "2023-09-04T02:25:42.499398",
     "exception": false,
     "start_time": "2023-09-04T02:25:42.471722",
     "status": "completed"
    },
    "tags": []
   },
   "outputs": [
    {
     "data": {
      "text/plain": [
       "Rating\n",
       "5       3826\n",
       "4       2373\n",
       "1       1735\n",
       "3       1192\n",
       "2        684\n",
       "4.5       69\n",
       "3.5       47\n",
       "2.5       19\n",
       "1.5        9\n",
       "Like       1\n",
       "Name: count, dtype: int64"
      ]
     },
     "execution_count": 17,
     "metadata": {},
     "output_type": "execute_result"
    }
   ],
   "source": [
    "# Check the unique values and frequency for 'Rating'\n",
    "\n",
    "df['Rating'].value_counts()"
   ]
  },
  {
   "cell_type": "code",
   "execution_count": 18,
   "id": "90f0318e",
   "metadata": {
    "execution": {
     "iopub.execute_input": "2023-09-04T02:25:42.532212Z",
     "iopub.status.busy": "2023-09-04T02:25:42.531827Z",
     "iopub.status.idle": "2023-09-04T02:25:42.539555Z",
     "shell.execute_reply": "2023-09-04T02:25:42.538454Z"
    },
    "papermill": {
     "duration": 0.027104,
     "end_time": "2023-09-04T02:25:42.541816",
     "exception": false,
     "start_time": "2023-09-04T02:25:42.514712",
     "status": "completed"
    },
    "tags": []
   },
   "outputs": [],
   "source": [
    "# # Replace string \"Like' with '5' as it is the most frequent value in the Rating column.\n",
    "\n",
    "df['Rating'] = df['Rating'].replace(['Like'], '5')"
   ]
  },
  {
   "cell_type": "code",
   "execution_count": 19,
   "id": "fa3c7c4b",
   "metadata": {
    "execution": {
     "iopub.execute_input": "2023-09-04T02:25:42.574964Z",
     "iopub.status.busy": "2023-09-04T02:25:42.574602Z",
     "iopub.status.idle": "2023-09-04T02:25:42.581249Z",
     "shell.execute_reply": "2023-09-04T02:25:42.580161Z"
    },
    "papermill": {
     "duration": 0.025893,
     "end_time": "2023-09-04T02:25:42.583395",
     "exception": false,
     "start_time": "2023-09-04T02:25:42.557502",
     "status": "completed"
    },
    "tags": []
   },
   "outputs": [],
   "source": [
    "# Replace column type 'Rating' to 'float'.\n",
    "\n",
    "df['Rating'] = df['Rating'].astype(float)"
   ]
  },
  {
   "cell_type": "code",
   "execution_count": 20,
   "id": "0bdc8617",
   "metadata": {
    "execution": {
     "iopub.execute_input": "2023-09-04T02:25:42.615204Z",
     "iopub.status.busy": "2023-09-04T02:25:42.614843Z",
     "iopub.status.idle": "2023-09-04T02:25:42.620505Z",
     "shell.execute_reply": "2023-09-04T02:25:42.619663Z"
    },
    "papermill": {
     "duration": 0.023996,
     "end_time": "2023-09-04T02:25:42.622704",
     "exception": false,
     "start_time": "2023-09-04T02:25:42.598708",
     "status": "completed"
    },
    "tags": []
   },
   "outputs": [
    {
     "name": "stdout",
     "output_type": "stream",
     "text": [
      "Maximum: 5.0\n",
      "Minimum: 1.0\n"
     ]
    }
   ],
   "source": [
    "# Rating - Maximum and Minimum value\n",
    "\n",
    "print(\"Maximum: \" + str(df['Rating'].max()))\n",
    "print(\"Minimum: \" + str(df['Rating'].min()))"
   ]
  },
  {
   "cell_type": "code",
   "execution_count": 21,
   "id": "7dafd4fe",
   "metadata": {
    "execution": {
     "iopub.execute_input": "2023-09-04T02:25:42.654545Z",
     "iopub.status.busy": "2023-09-04T02:25:42.654138Z",
     "iopub.status.idle": "2023-09-04T02:25:42.662956Z",
     "shell.execute_reply": "2023-09-04T02:25:42.661955Z"
    },
    "papermill": {
     "duration": 0.027002,
     "end_time": "2023-09-04T02:25:42.665043",
     "exception": false,
     "start_time": "2023-09-04T02:25:42.638041",
     "status": "completed"
    },
    "tags": []
   },
   "outputs": [
    {
     "data": {
      "text/plain": [
       "Rating\n",
       "5.0    3827\n",
       "4.0    2373\n",
       "1.0    1735\n",
       "3.0    1192\n",
       "2.0     684\n",
       "4.5      69\n",
       "3.5      47\n",
       "2.5      19\n",
       "1.5       9\n",
       "Name: count, dtype: int64"
      ]
     },
     "execution_count": 21,
     "metadata": {},
     "output_type": "execute_result"
    }
   ],
   "source": [
    "# Check the unique values and frequency for 'Rating'\n",
    "\n",
    "df['Rating'].value_counts()"
   ]
  },
  {
   "cell_type": "code",
   "execution_count": 22,
   "id": "eba7c3fe",
   "metadata": {
    "execution": {
     "iopub.execute_input": "2023-09-04T02:25:42.697634Z",
     "iopub.status.busy": "2023-09-04T02:25:42.697239Z",
     "iopub.status.idle": "2023-09-04T02:25:42.705174Z",
     "shell.execute_reply": "2023-09-04T02:25:42.704194Z"
    },
    "papermill": {
     "duration": 0.026807,
     "end_time": "2023-09-04T02:25:42.707341",
     "exception": false,
     "start_time": "2023-09-04T02:25:42.680534",
     "status": "completed"
    },
    "tags": []
   },
   "outputs": [
    {
     "data": {
      "text/plain": [
       "array([5. , 4. , 1. , 3. , 2. , 3.5, 4.5, 2.5, 1.5])"
      ]
     },
     "execution_count": 22,
     "metadata": {},
     "output_type": "execute_result"
    }
   ],
   "source": [
    "df['Rating'].unique()"
   ]
  },
  {
   "cell_type": "markdown",
   "id": "49690d22",
   "metadata": {
    "papermill": {
     "duration": 0.015175,
     "end_time": "2023-09-04T02:25:42.737924",
     "exception": false,
     "start_time": "2023-09-04T02:25:42.722749",
     "status": "completed"
    },
    "tags": []
   },
   "source": [
    "## <b><div style='padding:15px;background-color:#005959;color:white;border-radius:40px;font-size:110%;text-align: center'>5  |  EDA</div></b>"
   ]
  },
  {
   "cell_type": "code",
   "execution_count": 23,
   "id": "7cc3283c",
   "metadata": {
    "execution": {
     "iopub.execute_input": "2023-09-04T02:25:42.771264Z",
     "iopub.status.busy": "2023-09-04T02:25:42.770876Z",
     "iopub.status.idle": "2023-09-04T02:25:43.350256Z",
     "shell.execute_reply": "2023-09-04T02:25:43.349047Z"
    },
    "papermill": {
     "duration": 0.598963,
     "end_time": "2023-09-04T02:25:43.352632",
     "exception": false,
     "start_time": "2023-09-04T02:25:42.753669",
     "status": "completed"
    },
    "tags": []
   },
   "outputs": [
    {
     "data": {
      "image/png": "[encoded data removed]",
      "text/plain": [
       "<Figure size 600x400 with 2 Axes>"
      ]
     },
     "metadata": {},
     "output_type": "display_data"
    }
   ],
   "source": [
    "# Histogram\n",
    "\n",
    "df.hist(bins=50, figsize=(6,4))\n",
    "plt.show()"
   ]
  },
  {
   "cell_type": "code",
   "execution_count": 24,
   "id": "0ad3a154",
   "metadata": {
    "execution": {
     "iopub.execute_input": "2023-09-04T02:25:43.386368Z",
     "iopub.status.busy": "2023-09-04T02:25:43.385163Z",
     "iopub.status.idle": "2023-09-04T02:25:43.392152Z",
     "shell.execute_reply": "2023-09-04T02:25:43.391369Z"
    },
    "papermill": {
     "duration": 0.025876,
     "end_time": "2023-09-04T02:25:43.394429",
     "exception": false,
     "start_time": "2023-09-04T02:25:43.368553",
     "status": "completed"
    },
    "tags": []
   },
   "outputs": [],
   "source": [
    "# Function to graph - Best Rating\n",
    "\n",
    "def bar_chart(columnName):\n",
    "    char_bar = df.groupby([columnName])['Rating'].mean().reset_index()\n",
    "    char_bar = char_bar.sort_values(by=(\"Rating\"), ascending=False)\n",
    "\n",
    "    top = char_bar.head(10)\n",
    "    fig = go.Figure()\n",
    "    fig.add_trace(go.Bar(x=top[columnName], y=top[\"Rating\"]))\n",
    "\n",
    "    fig.update_layout(title=\"Best \" + columnName + \" by Rating\",\n",
    "                  xaxis_title=columnName,\n",
    "                  yaxis_title= \"Rating\",\n",
    "                  plot_bgcolor='black', \n",
    "                  paper_bgcolor='gray',  \n",
    "                  font=dict(color='white'))\n",
    "\n",
    "    pyo.init_notebook_mode(connected=True)\n",
    "    pyo.iplot(fig)"
   ]
  },
  {
   "cell_type": "code",
   "execution_count": 25,
   "id": "5c81a1e9",
   "metadata": {
    "execution": {
     "iopub.execute_input": "2023-09-04T02:25:43.427697Z",
     "iopub.status.busy": "2023-09-04T02:25:43.427024Z",
     "iopub.status.idle": "2023-09-04T02:25:45.134392Z",
     "shell.execute_reply": "2023-09-04T02:25:45.132998Z"
    },
    "papermill": {
     "duration": 1.72626,
     "end_time": "2023-09-04T02:25:45.136554",
     "exception": false,
     "start_time": "2023-09-04T02:25:43.410294",
     "status": "completed"
    },
    "tags": []
   },
   "outputs": [
    {
     "data": {
      "text/html": [
       "        <script type=\"text/javascript\">\n",
       "        window.PlotlyConfig = {MathJaxConfig: 'local'};\n",
       "        if (window.MathJax && window.MathJax.Hub && window.MathJax.Hub.Config) {window.MathJax.Hub.Config({SVG: {font: \"STIX-Web\"}});}\n",
       "        if (typeof require !== 'undefined') {\n",
       "        require.undef(\"plotly\");\n",
       "        requirejs.config({\n",
       "            paths: {\n",
       "                'plotly': ['https://cdn.plot.ly/plotly-2.24.1.min']\n",
       "            }\n",
       "        });\n",
       "        require(['plotly'], function(Plotly) {\n",
       "            window._Plotly = Plotly;\n",
       "        });\n",
       "        }\n",
       "        </script>\n",
       "        "
      ]
     },
     "metadata": {},
     "output_type": "display_data"
    },
    {
     "data": {
      "application/vnd.plotly.v1+json": {
       "config": {
        "linkText": "Export to plot.ly",
        "plotlyServerURL": "https://plot.ly",
        "showLink": false
       },
       "data": [
        {
         "type": "bar",
         "x": [
          "AB's - Absolute Barbecues",
          "B-Dubs",
          "3B's - Buddies, Bar & Barbecue",
          "Paradise",
          "Flechazo",
          "The Indi Grill",
          "Zega - Sheraton Hyderabad Hotel",
          "Over The Moon Brew Company",
          "Beyond Flavours",
          "Cascade - Radisson Hyderabad Hitec City"
         ],
         "y": [
          4.88,
          4.81,
          4.76,
          4.7,
          4.66,
          4.6,
          4.45,
          4.34,
          4.28,
          4.26
         ]
        }
       ],
       "layout": {
        "font": {
         "color": "white"
        },
        "paper_bgcolor": "gray",
        "plot_bgcolor": "black",
        "template": {
         "data": {
          "bar": [
           {
            "error_x": {
             "color": "#2a3f5f"
            },
            "error_y": {
             "color": "#2a3f5f"
            },
            "marker": {
             "line": {
              "color": "#E5ECF6",
              "width": 0.5
             },
             "pattern": {
              "fillmode": "overlay",
              "size": 10,
              "solidity": 0.2
             }
            },
            "type": "bar"
           }
          ],
          "barpolar": [
           {
            "marker": {
             "line": {
              "color": "#E5ECF6",
              "width": 0.5
             },
             "pattern": {
              "fillmode": "overlay",
              "size": 10,
              "solidity": 0.2
             }
            },
            "type": "barpolar"
           }
          ],
          "carpet": [
           {
            "aaxis": {
             "endlinecolor": "#2a3f5f",
             "gridcolor": "white",
             "linecolor": "white",
             "minorgridcolor": "white",
             "startlinecolor": "#2a3f5f"
            },
            "baxis": {
             "endlinecolor": "#2a3f5f",
             "gridcolor": "white",
             "linecolor": "white",
             "minorgridcolor": "white",
             "startlinecolor": "#2a3f5f"
            },
            "type": "carpet"
           }
          ],
          "choropleth": [
           {
            "colorbar": {
             "outlinewidth": 0,
             "ticks": ""
            },
            "type": "choropleth"
           }
          ],
          "contour": [
           {
            "colorbar": {
             "outlinewidth": 0,
             "ticks": ""
            },
            "colorscale": [
             [
              0.0,
              "#0d0887"
             ],
             [
              0.1111111111111111,
              "#46039f"
             ],
             [
              0.2222222222222222,
              "#7201a8"
             ],
             [
              0.3333333333333333,
              "#9c179e"
             ],
             [
              0.4444444444444444,
              "#bd3786"
             ],
             [
              0.5555555555555556,
              "#d8576b"
             ],
             [
              0.6666666666666666,
              "#ed7953"
             ],
             [
              0.7777777777777778,
              "#fb9f3a"
             ],
             [
              0.8888888888888888,
              "#fdca26"
             ],
             [
              1.0,
              "#f0f921"
             ]
            ],
            "type": "contour"
           }
          ],
          "contourcarpet": [
           {
            "colorbar": {
             "outlinewidth": 0,
             "ticks": ""
            },
            "type": "contourcarpet"
           }
          ],
          "heatmap": [
           {
            "colorbar": {
             "outlinewidth": 0,
             "ticks": ""
            },
            "colorscale": [
             [
              0.0,
              "#0d0887"
             ],
             [
              0.1111111111111111,
              "#46039f"
             ],
             [
              0.2222222222222222,
              "#7201a8"
             ],
             [
              0.3333333333333333,
              "#9c179e"
             ],
             [
              0.4444444444444444,
              "#bd3786"
             ],
             [
              0.5555555555555556,
              "#d8576b"
             ],
             [
              0.6666666666666666,
              "#ed7953"
             ],
             [
              0.7777777777777778,
              "#fb9f3a"
             ],
             [
              0.8888888888888888,
              "#fdca26"
             ],
             [
              1.0,
              "#f0f921"
             ]
            ],
            "type": "heatmap"
           }
          ],
          "heatmapgl": [
           {
            "colorbar": {
             "outlinewidth": 0,
             "ticks": ""
            },
            "colorscale": [
             [
              0.0,
              "#0d0887"
             ],
             [
              0.1111111111111111,
              "#46039f"
             ],
             [
              0.2222222222222222,
              "#7201a8"
             ],
             [
              0.3333333333333333,
              "#9c179e"
             ],
             [
              0.4444444444444444,
              "#bd3786"
             ],
             [
              0.5555555555555556,
              "#d8576b"
             ],
             [
              0.6666666666666666,
              "#ed7953"
             ],
             [
              0.7777777777777778,
              "#fb9f3a"
             ],
             [
              0.8888888888888888,
              "#fdca26"
             ],
             [
              1.0,
              "#f0f921"
             ]
            ],
            "type": "heatmapgl"
           }
          ],
          "histogram": [
           {
            "marker": {
             "pattern": {
              "fillmode": "overlay",
              "size": 10,
              "solidity": 0.2
             }
            },
            "type": "histogram"
           }
          ],
          "histogram2d": [
           {
            "colorbar": {
             "outlinewidth": 0,
             "ticks": ""
            },
            "colorscale": [
             [
              0.0,
              "#0d0887"
             ],
             [
              0.1111111111111111,
              "#46039f"
             ],
             [
              0.2222222222222222,
              "#7201a8"
             ],
             [
              0.3333333333333333,
              "#9c179e"
             ],
             [
              0.4444444444444444,
              "#bd3786"
             ],
             [
              0.5555555555555556,
              "#d8576b"
             ],
             [
              0.6666666666666666,
              "#ed7953"
             ],
             [
              0.7777777777777778,
              "#fb9f3a"
             ],
             [
              0.8888888888888888,
              "#fdca26"
             ],
             [
              1.0,
              "#f0f921"
             ]
            ],
            "type": "histogram2d"
           }
          ],
          "histogram2dcontour": [
           {
            "colorbar": {
             "outlinewidth": 0,
             "ticks": ""
            },
            "colorscale": [
             [
              0.0,
              "#0d0887"
             ],
             [
              0.1111111111111111,
              "#46039f"
             ],
             [
              0.2222222222222222,
              "#7201a8"
             ],
             [
              0.3333333333333333,
              "#9c179e"
             ],
             [
              0.4444444444444444,
              "#bd3786"
             ],
             [
              0.5555555555555556,
              "#d8576b"
             ],
             [
              0.6666666666666666,
              "#ed7953"
             ],
             [
              0.7777777777777778,
              "#fb9f3a"
             ],
             [
              0.8888888888888888,
              "#fdca26"
             ],
             [
              1.0,
              "#f0f921"
             ]
            ],
            "type": "histogram2dcontour"
           }
          ],
          "mesh3d": [
           {
            "colorbar": {
             "outlinewidth": 0,
             "ticks": ""
            },
            "type": "mesh3d"
           }
          ],
          "parcoords": [
           {
            "line": {
             "colorbar": {
              "outlinewidth": 0,
              "ticks": ""
             }
            },
            "type": "parcoords"
           }
          ],
          "pie": [
           {
            "automargin": true,
            "type": "pie"
           }
          ],
          "scatter": [
           {
            "fillpattern": {
             "fillmode": "overlay",
             "size": 10,
             "solidity": 0.2
            },
            "type": "scatter"
           }
          ],
          "scatter3d": [
           {
            "line": {
             "colorbar": {
              "outlinewidth": 0,
              "ticks": ""
             }
            },
            "marker": {
             "colorbar": {
              "outlinewidth": 0,
              "ticks": ""
             }
            },
            "type": "scatter3d"
           }
          ],
          "scattercarpet": [
           {
            "marker": {
             "colorbar": {
              "outlinewidth": 0,
              "ticks": ""
             }
            },
            "type": "scattercarpet"
           }
          ],
          "scattergeo": [
           {
            "marker": {
             "colorbar": {
              "outlinewidth": 0,
              "ticks": ""
             }
            },
            "type": "scattergeo"
           }
          ],
          "scattergl": [
           {
            "marker": {
             "colorbar": {
              "outlinewidth": 0,
              "ticks": ""
             }
            },
            "type": "scattergl"
           }
          ],
          "scattermapbox": [
           {
            "marker": {
             "colorbar": {
              "outlinewidth": 0,
              "ticks": ""
             }
            },
            "type": "scattermapbox"
           }
          ],
          "scatterpolar": [
           {
            "marker": {
             "colorbar": {
              "outlinewidth": 0,
              "ticks": ""
             }
            },
            "type": "scatterpolar"
           }
          ],
          "scatterpolargl": [
           {
            "marker": {
             "colorbar": {
              "outlinewidth": 0,
              "ticks": ""
             }
            },
            "type": "scatterpolargl"
           }
          ],
          "scatterternary": [
           {
            "marker": {
             "colorbar": {
              "outlinewidth": 0,
              "ticks": ""
             }
            },
            "type": "scatterternary"
           }
          ],
          "surface": [
           {
            "colorbar": {
             "outlinewidth": 0,
             "ticks": ""
            },
            "colorscale": [
             [
              0.0,
              "#0d0887"
             ],
             [
              0.1111111111111111,
              "#46039f"
             ],
             [
              0.2222222222222222,
              "#7201a8"
             ],
             [
              0.3333333333333333,
              "#9c179e"
             ],
             [
              0.4444444444444444,
              "#bd3786"
             ],
             [
              0.5555555555555556,
              "#d8576b"
             ],
             [
              0.6666666666666666,
              "#ed7953"
             ],
             [
              0.7777777777777778,
              "#fb9f3a"
             ],
             [
              0.8888888888888888,
              "#fdca26"
             ],
             [
              1.0,
              "#f0f921"
             ]
            ],
            "type": "surface"
           }
          ],
          "table": [
           {
            "cells": {
             "fill": {
              "color": "#EBF0F8"
             },
             "line": {
              "color": "white"
             }
            },
            "header": {
             "fill": {
              "color": "#C8D4E3"
             },
             "line": {
              "color": "white"
             }
            },
            "type": "table"
           }
          ]
         },
         "layout": {
          "annotationdefaults": {
           "arrowcolor": "#2a3f5f",
           "arrowhead": 0,
           "arrowwidth": 1
          },
          "autotypenumbers": "strict",
          "coloraxis": {
           "colorbar": {
            "outlinewidth": 0,
            "ticks": ""
           }
          },
          "colorscale": {
           "diverging": [
            [
             0,
             "#8e0152"
            ],
            [
             0.1,
             "#c51b7d"
            ],
            [
             0.2,
             "#de77ae"
            ],
            [
             0.3,
             "#f1b6da"
            ],
            [
             0.4,
             "#fde0ef"
            ],
            [
             0.5,
             "#f7f7f7"
            ],
            [
             0.6,
             "#e6f5d0"
            ],
            [
             0.7,
             "#b8e186"
            ],
            [
             0.8,
             "#7fbc41"
            ],
            [
             0.9,
             "#4d9221"
            ],
            [
             1,
             "#276419"
            ]
           ],
           "sequential": [
            [
             0.0,
             "#0d0887"
            ],
            [
             0.1111111111111111,
             "#46039f"
            ],
            [
             0.2222222222222222,
             "#7201a8"
            ],
            [
             0.3333333333333333,
             "#9c179e"
            ],
            [
             0.4444444444444444,
             "#bd3786"
            ],
            [
             0.5555555555555556,
             "#d8576b"
            ],
            [
             0.6666666666666666,
             "#ed7953"
            ],
            [
             0.7777777777777778,
             "#fb9f3a"
            ],
            [
             0.8888888888888888,
             "#fdca26"
            ],
            [
             1.0,
             "#f0f921"
            ]
           ],
           "sequentialminus": [
            [
             0.0,
             "#0d0887"
            ],
            [
             0.1111111111111111,
             "#46039f"
            ],
            [
             0.2222222222222222,
             "#7201a8"
            ],
            [
             0.3333333333333333,
             "#9c179e"
            ],
            [
             0.4444444444444444,
             "#bd3786"
            ],
            [
             0.5555555555555556,
             "#d8576b"
            ],
            [
             0.6666666666666666,
             "#ed7953"
            ],
            [
             0.7777777777777778,
             "#fb9f3a"
            ],
            [
             0.8888888888888888,
             "#fdca26"
            ],
            [
             1.0,
             "#f0f921"
            ]
           ]
          },
          "colorway": [
           "#636efa",
           "#EF553B",
           "#00cc96",
           "#ab63fa",
           "#FFA15A",
           "#19d3f3",
           "#FF6692",
           "#B6E880",
           "#FF97FF",
           "#FECB52"
          ],
          "font": {
           "color": "#2a3f5f"
          },
          "geo": {
           "bgcolor": "white",
           "lakecolor": "white",
           "landcolor": "#E5ECF6",
           "showlakes": true,
           "showland": true,
           "subunitcolor": "white"
          },
          "hoverlabel": {
           "align": "left"
          },
          "hovermode": "closest",
          "mapbox": {
           "style": "light"
          },
          "paper_bgcolor": "white",
          "plot_bgcolor": "#E5ECF6",
          "polar": {
           "angularaxis": {
            "gridcolor": "white",
            "linecolor": "white",
            "ticks": ""
           },
           "bgcolor": "#E5ECF6",
           "radialaxis": {
            "gridcolor": "white",
            "linecolor": "white",
            "ticks": ""
           }
          },
          "scene": {
           "xaxis": {
            "backgroundcolor": "#E5ECF6",
            "gridcolor": "white",
            "gridwidth": 2,
            "linecolor": "white",
            "showbackground": true,
            "ticks": "",
            "zerolinecolor": "white"
           },
           "yaxis": {
            "backgroundcolor": "#E5ECF6",
            "gridcolor": "white",
            "gridwidth": 2,
            "linecolor": "white",
            "showbackground": true,
            "ticks": "",
            "zerolinecolor": "white"
           },
           "zaxis": {
            "backgroundcolor": "#E5ECF6",
            "gridcolor": "white",
            "gridwidth": 2,
            "linecolor": "white",
            "showbackground": true,
            "ticks": "",
            "zerolinecolor": "white"
           }
          },
          "shapedefaults": {
           "line": {
            "color": "#2a3f5f"
           }
          },
          "ternary": {
           "aaxis": {
            "gridcolor": "white",
            "linecolor": "white",
            "ticks": ""
           },
           "baxis": {
            "gridcolor": "white",
            "linecolor": "white",
            "ticks": ""
           },
           "bgcolor": "#E5ECF6",
           "caxis": {
            "gridcolor": "white",
            "linecolor": "white",
            "ticks": ""
           }
          },
          "title": {
           "x": 0.05
          },
          "xaxis": {
           "automargin": true,
           "gridcolor": "white",
           "linecolor": "white",
           "ticks": "",
           "title": {
            "standoff": 15
           },
           "zerolinecolor": "white",
           "zerolinewidth": 2
          },
          "yaxis": {
           "automargin": true,
           "gridcolor": "white",
           "linecolor": "white",
           "ticks": "",
           "title": {
            "standoff": 15
           },
           "zerolinecolor": "white",
           "zerolinewidth": 2
          }
         }
        },
        "title": {
         "text": "Best Restaurant by Rating"
        },
        "xaxis": {
         "title": {
          "text": "Restaurant"
         }
        },
        "yaxis": {
         "title": {
          "text": "Rating"
         }
        }
       }
      },
      "text/html": [
       "<div>                            <div id=\"d6aeaa16-e74a-4bb2-aa41-e613b5d8ce6f\" class=\"plotly-graph-div\" style=\"height:525px; width:100%;\"></div>            <script type=\"text/javascript\">                require([\"plotly\"], function(Plotly) {                    window.PLOTLYENV=window.PLOTLYENV || {};                                    if (document.getElementById(\"d6aeaa16-e74a-4bb2-aa41-e613b5d8ce6f\")) {                    Plotly.newPlot(                        \"d6aeaa16-e74a-4bb2-aa41-e613b5d8ce6f\",                        [{\"x\":[\"AB's - Absolute Barbecues\",\"B-Dubs\",\"3B's - Buddies, Bar & Barbecue\",\"Paradise\",\"Flechazo\",\"The Indi Grill\",\"Zega - Sheraton Hyderabad Hotel\",\"Over The Moon Brew Company\",\"Beyond Flavours\",\"Cascade - Radisson Hyderabad Hitec City\"],\"y\":[4.88,4.81,4.76,4.7,4.66,4.6,4.45,4.34,4.28,4.26],\"type\":\"bar\"}],                        {\"font\":{\"color\":\"white\"},\"paper_bgcolor\":\"gray\",\"plot_bgcolor\":\"black\",\"template\":{\"data\":{\"barpolar\":[{\"marker\":{\"line\":{\"color\":\"#E5ECF6\",\"width\":0.5},\"pattern\":{\"fillmode\":\"overlay\",\"size\":10,\"solidity\":0.2}},\"type\":\"barpolar\"}],\"bar\":[{\"error_x\":{\"color\":\"#2a3f5f\"},\"error_y\":{\"color\":\"#2a3f5f\"},\"marker\":{\"line\":{\"color\":\"#E5ECF6\",\"width\":0.5},\"pattern\":{\"fillmode\":\"overlay\",\"size\":10,\"solidity\":0.2}},\"type\":\"bar\"}],\"carpet\":[{\"aaxis\":{\"endlinecolor\":\"#2a3f5f\",\"gridcolor\":\"white\",\"linecolor\":\"white\",\"minorgridcolor\":\"white\",\"startlinecolor\":\"#2a3f5f\"},\"baxis\":{\"endlinecolor\":\"#2a3f5f\",\"gridcolor\":\"white\",\"linecolor\":\"white\",\"minorgridcolor\":\"white\",\"startlinecolor\":\"#2a3f5f\"},\"type\":\"carpet\"}],\"choropleth\":[{\"colorbar\":{\"outlinewidth\":0,\"ticks\":\"\"},\"type\":\"choropleth\"}],\"contourcarpet\":[{\"colorbar\":{\"outlinewidth\":0,\"ticks\":\"\"},\"type\":\"contourcarpet\"}],\"contour\":[{\"colorbar\":{\"outlinewidth\":0,\"ticks\":\"\"},\"colorscale\":[[0.0,\"#0d0887\"],[0.1111111111111111,\"#46039f\"],[0.2222222222222222,\"#7201a8\"],[0.3333333333333333,\"#9c179e\"],[0.4444444444444444,\"#bd3786\"],[0.5555555555555556,\"#d8576b\"],[0.6666666666666666,\"#ed7953\"],[0.7777777777777778,\"#fb9f3a\"],[0.8888888888888888,\"#fdca26\"],[1.0,\"#f0f921\"]],\"type\":\"contour\"}],\"heatmapgl\":[{\"colorbar\":{\"outlinewidth\":0,\"ticks\":\"\"},\"colorscale\":[[0.0,\"#0d0887\"],[0.1111111111111111,\"#46039f\"],[0.2222222222222222,\"#7201a8\"],[0.3333333333333333,\"#9c179e\"],[0.4444444444444444,\"#bd3786\"],[0.5555555555555556,\"#d8576b\"],[0.6666666666666666,\"#ed7953\"],[0.7777777777777778,\"#fb9f3a\"],[0.8888888888888888,\"#fdca26\"],[1.0,\"#f0f921\"]],\"type\":\"heatmapgl\"}],\"heatmap\":[{\"colorbar\":{\"outlinewidth\":0,\"ticks\":\"\"},\"colorscale\":[[0.0,\"#0d0887\"],[0.1111111111111111,\"#46039f\"],[0.2222222222222222,\"#7201a8\"],[0.3333333333333333,\"#9c179e\"],[0.4444444444444444,\"#bd3786\"],[0.5555555555555556,\"#d8576b\"],[0.6666666666666666,\"#ed7953\"],[0.7777777777777778,\"#fb9f3a\"],[0.8888888888888888,\"#fdca26\"],[1.0,\"#f0f921\"]],\"type\":\"heatmap\"}],\"histogram2dcontour\":[{\"colorbar\":{\"outlinewidth\":0,\"ticks\":\"\"},\"colorscale\":[[0.0,\"#0d0887\"],[0.1111111111111111,\"#46039f\"],[0.2222222222222222,\"#7201a8\"],[0.3333333333333333,\"#9c179e\"],[0.4444444444444444,\"#bd3786\"],[0.5555555555555556,\"#d8576b\"],[0.6666666666666666,\"#ed7953\"],[0.7777777777777778,\"#fb9f3a\"],[0.8888888888888888,\"#fdca26\"],[1.0,\"#f0f921\"]],\"type\":\"histogram2dcontour\"}],\"histogram2d\":[{\"colorbar\":{\"outlinewidth\":0,\"ticks\":\"\"},\"colorscale\":[[0.0,\"#0d0887\"],[0.1111111111111111,\"#46039f\"],[0.2222222222222222,\"#7201a8\"],[0.3333333333333333,\"#9c179e\"],[0.4444444444444444,\"#bd3786\"],[0.5555555555555556,\"#d8576b\"],[0.6666666666666666,\"#ed7953\"],[0.7777777777777778,\"#fb9f3a\"],[0.8888888888888888,\"#fdca26\"],[1.0,\"#f0f921\"]],\"type\":\"histogram2d\"}],\"histogram\":[{\"marker\":{\"pattern\":{\"fillmode\":\"overlay\",\"size\":10,\"solidity\":0.2}},\"type\":\"histogram\"}],\"mesh3d\":[{\"colorbar\":{\"outlinewidth\":0,\"ticks\":\"\"},\"type\":\"mesh3d\"}],\"parcoords\":[{\"line\":{\"colorbar\":{\"outlinewidth\":0,\"ticks\":\"\"}},\"type\":\"parcoords\"}],\"pie\":[{\"automargin\":true,\"type\":\"pie\"}],\"scatter3d\":[{\"line\":{\"colorbar\":{\"outlinewidth\":0,\"ticks\":\"\"}},\"marker\":{\"colorbar\":{\"outlinewidth\":0,\"ticks\":\"\"}},\"type\":\"scatter3d\"}],\"scattercarpet\":[{\"marker\":{\"colorbar\":{\"outlinewidth\":0,\"ticks\":\"\"}},\"type\":\"scattercarpet\"}],\"scattergeo\":[{\"marker\":{\"colorbar\":{\"outlinewidth\":0,\"ticks\":\"\"}},\"type\":\"scattergeo\"}],\"scattergl\":[{\"marker\":{\"colorbar\":{\"outlinewidth\":0,\"ticks\":\"\"}},\"type\":\"scattergl\"}],\"scattermapbox\":[{\"marker\":{\"colorbar\":{\"outlinewidth\":0,\"ticks\":\"\"}},\"type\":\"scattermapbox\"}],\"scatterpolargl\":[{\"marker\":{\"colorbar\":{\"outlinewidth\":0,\"ticks\":\"\"}},\"type\":\"scatterpolargl\"}],\"scatterpolar\":[{\"marker\":{\"colorbar\":{\"outlinewidth\":0,\"ticks\":\"\"}},\"type\":\"scatterpolar\"}],\"scatter\":[{\"fillpattern\":{\"fillmode\":\"overlay\",\"size\":10,\"solidity\":0.2},\"type\":\"scatter\"}],\"scatterternary\":[{\"marker\":{\"colorbar\":{\"outlinewidth\":0,\"ticks\":\"\"}},\"type\":\"scatterternary\"}],\"surface\":[{\"colorbar\":{\"outlinewidth\":0,\"ticks\":\"\"},\"colorscale\":[[0.0,\"#0d0887\"],[0.1111111111111111,\"#46039f\"],[0.2222222222222222,\"#7201a8\"],[0.3333333333333333,\"#9c179e\"],[0.4444444444444444,\"#bd3786\"],[0.5555555555555556,\"#d8576b\"],[0.6666666666666666,\"#ed7953\"],[0.7777777777777778,\"#fb9f3a\"],[0.8888888888888888,\"#fdca26\"],[1.0,\"#f0f921\"]],\"type\":\"surface\"}],\"table\":[{\"cells\":{\"fill\":{\"color\":\"#EBF0F8\"},\"line\":{\"color\":\"white\"}},\"header\":{\"fill\":{\"color\":\"#C8D4E3\"},\"line\":{\"color\":\"white\"}},\"type\":\"table\"}]},\"layout\":{\"annotationdefaults\":{\"arrowcolor\":\"#2a3f5f\",\"arrowhead\":0,\"arrowwidth\":1},\"autotypenumbers\":\"strict\",\"coloraxis\":{\"colorbar\":{\"outlinewidth\":0,\"ticks\":\"\"}},\"colorscale\":{\"diverging\":[[0,\"#8e0152\"],[0.1,\"#c51b7d\"],[0.2,\"#de77ae\"],[0.3,\"#f1b6da\"],[0.4,\"#fde0ef\"],[0.5,\"#f7f7f7\"],[0.6,\"#e6f5d0\"],[0.7,\"#b8e186\"],[0.8,\"#7fbc41\"],[0.9,\"#4d9221\"],[1,\"#276419\"]],\"sequential\":[[0.0,\"#0d0887\"],[0.1111111111111111,\"#46039f\"],[0.2222222222222222,\"#7201a8\"],[0.3333333333333333,\"#9c179e\"],[0.4444444444444444,\"#bd3786\"],[0.5555555555555556,\"#d8576b\"],[0.6666666666666666,\"#ed7953\"],[0.7777777777777778,\"#fb9f3a\"],[0.8888888888888888,\"#fdca26\"],[1.0,\"#f0f921\"]],\"sequentialminus\":[[0.0,\"#0d0887\"],[0.1111111111111111,\"#46039f\"],[0.2222222222222222,\"#7201a8\"],[0.3333333333333333,\"#9c179e\"],[0.4444444444444444,\"#bd3786\"],[0.5555555555555556,\"#d8576b\"],[0.6666666666666666,\"#ed7953\"],[0.7777777777777778,\"#fb9f3a\"],[0.8888888888888888,\"#fdca26\"],[1.0,\"#f0f921\"]]},\"colorway\":[\"#636efa\",\"#EF553B\",\"#00cc96\",\"#ab63fa\",\"#FFA15A\",\"#19d3f3\",\"#FF6692\",\"#B6E880\",\"#FF97FF\",\"#FECB52\"],\"font\":{\"color\":\"#2a3f5f\"},\"geo\":{\"bgcolor\":\"white\",\"lakecolor\":\"white\",\"landcolor\":\"#E5ECF6\",\"showlakes\":true,\"showland\":true,\"subunitcolor\":\"white\"},\"hoverlabel\":{\"align\":\"left\"},\"hovermode\":\"closest\",\"mapbox\":{\"style\":\"light\"},\"paper_bgcolor\":\"white\",\"plot_bgcolor\":\"#E5ECF6\",\"polar\":{\"angularaxis\":{\"gridcolor\":\"white\",\"linecolor\":\"white\",\"ticks\":\"\"},\"bgcolor\":\"#E5ECF6\",\"radialaxis\":{\"gridcolor\":\"white\",\"linecolor\":\"white\",\"ticks\":\"\"}},\"scene\":{\"xaxis\":{\"backgroundcolor\":\"#E5ECF6\",\"gridcolor\":\"white\",\"gridwidth\":2,\"linecolor\":\"white\",\"showbackground\":true,\"ticks\":\"\",\"zerolinecolor\":\"white\"},\"yaxis\":{\"backgroundcolor\":\"#E5ECF6\",\"gridcolor\":\"white\",\"gridwidth\":2,\"linecolor\":\"white\",\"showbackground\":true,\"ticks\":\"\",\"zerolinecolor\":\"white\"},\"zaxis\":{\"backgroundcolor\":\"#E5ECF6\",\"gridcolor\":\"white\",\"gridwidth\":2,\"linecolor\":\"white\",\"showbackground\":true,\"ticks\":\"\",\"zerolinecolor\":\"white\"}},\"shapedefaults\":{\"line\":{\"color\":\"#2a3f5f\"}},\"ternary\":{\"aaxis\":{\"gridcolor\":\"white\",\"linecolor\":\"white\",\"ticks\":\"\"},\"baxis\":{\"gridcolor\":\"white\",\"linecolor\":\"white\",\"ticks\":\"\"},\"bgcolor\":\"#E5ECF6\",\"caxis\":{\"gridcolor\":\"white\",\"linecolor\":\"white\",\"ticks\":\"\"}},\"title\":{\"x\":0.05},\"xaxis\":{\"automargin\":true,\"gridcolor\":\"white\",\"linecolor\":\"white\",\"ticks\":\"\",\"title\":{\"standoff\":15},\"zerolinecolor\":\"white\",\"zerolinewidth\":2},\"yaxis\":{\"automargin\":true,\"gridcolor\":\"white\",\"linecolor\":\"white\",\"ticks\":\"\",\"title\":{\"standoff\":15},\"zerolinecolor\":\"white\",\"zerolinewidth\":2}}},\"title\":{\"text\":\"Best Restaurant by Rating\"},\"xaxis\":{\"title\":{\"text\":\"Restaurant\"}},\"yaxis\":{\"title\":{\"text\":\"Rating\"}}},                        {\"responsive\": true}                    ).then(function(){\n",
       "                            \n",
       "var gd = document.getElementById('d6aeaa16-e74a-4bb2-aa41-e613b5d8ce6f');\n",
       "var x = new MutationObserver(function (mutations, observer) {{\n",
       "        var display = window.getComputedStyle(gd).display;\n",
       "        if (!display || display === 'none') {{\n",
       "            console.log([gd, 'removed!']);\n",
       "            Plotly.purge(gd);\n",
       "            observer.disconnect();\n",
       "        }}\n",
       "}});\n",
       "\n",
       "// Listen for the removal of the full notebook cells\n",
       "var notebookContainer = gd.closest('#notebook-container');\n",
       "if (notebookContainer) {{\n",
       "    x.observe(notebookContainer, {childList: true});\n",
       "}}\n",
       "\n",
       "// Listen for the clearing of the current output cell\n",
       "var outputEl = gd.closest('.output');\n",
       "if (outputEl) {{\n",
       "    x.observe(outputEl, {childList: true});\n",
       "}}\n",
       "\n",
       "                        })                };                });            </script>        </div>"
      ]
     },
     "metadata": {},
     "output_type": "display_data"
    }
   ],
   "source": [
    "bar_chart('Restaurant')"
   ]
  },
  {
   "cell_type": "code",
   "execution_count": 26,
   "id": "cee64940",
   "metadata": {
    "execution": {
     "iopub.execute_input": "2023-09-04T02:25:45.181058Z",
     "iopub.status.busy": "2023-09-04T02:25:45.180188Z",
     "iopub.status.idle": "2023-09-04T02:25:45.187012Z",
     "shell.execute_reply": "2023-09-04T02:25:45.185810Z"
    },
    "papermill": {
     "duration": 0.031826,
     "end_time": "2023-09-04T02:25:45.189574",
     "exception": false,
     "start_time": "2023-09-04T02:25:45.157748",
     "status": "completed"
    },
    "tags": []
   },
   "outputs": [],
   "source": [
    "# Function to graph - Worst Rating\n",
    "\n",
    "def bar_chart(columnName):\n",
    "    char_bar = df.groupby([columnName])['Rating'].mean().reset_index()\n",
    "    char_bar = char_bar.sort_values(by=(\"Rating\"), ascending=True)\n",
    "\n",
    "    top = char_bar.head(10)\n",
    "    fig = go.Figure()\n",
    "    fig.add_trace(go.Bar(x=top[columnName], y=top[\"Rating\"]))\n",
    "\n",
    "    fig.update_layout(title=\"Worst \" + columnName + \" by Rating\",\n",
    "                  xaxis_title=columnName,\n",
    "                  yaxis_title= \"Rating\",\n",
    "                  plot_bgcolor='black', \n",
    "                  paper_bgcolor='gray',  \n",
    "                  font=dict(color='white'))\n",
    "\n",
    "    pyo.init_notebook_mode(connected=True)\n",
    "    pyo.iplot(fig)"
   ]
  },
  {
   "cell_type": "code",
   "execution_count": 27,
   "id": "257e67bc",
   "metadata": {
    "execution": {
     "iopub.execute_input": "2023-09-04T02:25:45.233277Z",
     "iopub.status.busy": "2023-09-04T02:25:45.232862Z",
     "iopub.status.idle": "2023-09-04T02:25:45.273251Z",
     "shell.execute_reply": "2023-09-04T02:25:45.272260Z"
    },
    "papermill": {
     "duration": 0.064924,
     "end_time": "2023-09-04T02:25:45.275665",
     "exception": false,
     "start_time": "2023-09-04T02:25:45.210741",
     "status": "completed"
    },
    "tags": []
   },
   "outputs": [
    {
     "data": {
      "text/html": [
       "        <script type=\"text/javascript\">\n",
       "        window.PlotlyConfig = {MathJaxConfig: 'local'};\n",
       "        if (window.MathJax && window.MathJax.Hub && window.MathJax.Hub.Config) {window.MathJax.Hub.Config({SVG: {font: \"STIX-Web\"}});}\n",
       "        if (typeof require !== 'undefined') {\n",
       "        require.undef(\"plotly\");\n",
       "        requirejs.config({\n",
       "            paths: {\n",
       "                'plotly': ['https://cdn.plot.ly/plotly-2.24.1.min']\n",
       "            }\n",
       "        });\n",
       "        require(['plotly'], function(Plotly) {\n",
       "            window._Plotly = Plotly;\n",
       "        });\n",
       "        }\n",
       "        </script>\n",
       "        "
      ]
     },
     "metadata": {},
     "output_type": "display_data"
    },
    {
     "data": {
      "application/vnd.plotly.v1+json": {
       "config": {
        "linkText": "Export to plot.ly",
        "plotlyServerURL": "https://plot.ly",
        "showLink": false
       },
       "data": [
        {
         "type": "bar",
         "x": [
          "Hotel Zara Hi-Fi",
          "Asian Meal Box",
          "Pakwaan Grand",
          "Mathura Vilas",
          "Behrouz Biryani",
          "Shree Santosh Dhaba Family Restaurant",
          "The Chocolate Room",
          "KFC",
          "Club Rogue",
          "Desi Bytes"
         ],
         "y": [
          2.4,
          2.58,
          2.71,
          2.82,
          2.825,
          2.83,
          2.83,
          2.85,
          2.88,
          2.9
         ]
        }
       ],
       "layout": {
        "font": {
         "color": "white"
        },
        "paper_bgcolor": "gray",
        "plot_bgcolor": "black",
        "template": {
         "data": {
          "bar": [
           {
            "error_x": {
             "color": "#2a3f5f"
            },
            "error_y": {
             "color": "#2a3f5f"
            },
            "marker": {
             "line": {
              "color": "#E5ECF6",
              "width": 0.5
             },
             "pattern": {
              "fillmode": "overlay",
              "size": 10,
              "solidity": 0.2
             }
            },
            "type": "bar"
           }
          ],
          "barpolar": [
           {
            "marker": {
             "line": {
              "color": "#E5ECF6",
              "width": 0.5
             },
             "pattern": {
              "fillmode": "overlay",
              "size": 10,
              "solidity": 0.2
             }
            },
            "type": "barpolar"
           }
          ],
          "carpet": [
           {
            "aaxis": {
             "endlinecolor": "#2a3f5f",
             "gridcolor": "white",
             "linecolor": "white",
             "minorgridcolor": "white",
             "startlinecolor": "#2a3f5f"
            },
            "baxis": {
             "endlinecolor": "#2a3f5f",
             "gridcolor": "white",
             "linecolor": "white",
             "minorgridcolor": "white",
             "startlinecolor": "#2a3f5f"
            },
            "type": "carpet"
           }
          ],
          "choropleth": [
           {
            "colorbar": {
             "outlinewidth": 0,
             "ticks": ""
            },
            "type": "choropleth"
           }
          ],
          "contour": [
           {
            "colorbar": {
             "outlinewidth": 0,
             "ticks": ""
            },
            "colorscale": [
             [
              0.0,
              "#0d0887"
             ],
             [
              0.1111111111111111,
              "#46039f"
             ],
             [
              0.2222222222222222,
              "#7201a8"
             ],
             [
              0.3333333333333333,
              "#9c179e"
             ],
             [
              0.4444444444444444,
              "#bd3786"
             ],
             [
              0.5555555555555556,
              "#d8576b"
             ],
             [
              0.6666666666666666,
              "#ed7953"
             ],
             [
              0.7777777777777778,
              "#fb9f3a"
             ],
             [
              0.8888888888888888,
              "#fdca26"
             ],
             [
              1.0,
              "#f0f921"
             ]
            ],
            "type": "contour"
           }
          ],
          "contourcarpet": [
           {
            "colorbar": {
             "outlinewidth": 0,
             "ticks": ""
            },
            "type": "contourcarpet"
           }
          ],
          "heatmap": [
           {
            "colorbar": {
             "outlinewidth": 0,
             "ticks": ""
            },
            "colorscale": [
             [
              0.0,
              "#0d0887"
             ],
             [
              0.1111111111111111,
              "#46039f"
             ],
             [
              0.2222222222222222,
              "#7201a8"
             ],
             [
              0.3333333333333333,
              "#9c179e"
             ],
             [
              0.4444444444444444,
              "#bd3786"
             ],
             [
              0.5555555555555556,
              "#d8576b"
             ],
             [
              0.6666666666666666,
              "#ed7953"
             ],
             [
              0.7777777777777778,
              "#fb9f3a"
             ],
             [
              0.8888888888888888,
              "#fdca26"
             ],
             [
              1.0,
              "#f0f921"
             ]
            ],
            "type": "heatmap"
           }
          ],
          "heatmapgl": [
           {
            "colorbar": {
             "outlinewidth": 0,
             "ticks": ""
            },
            "colorscale": [
             [
              0.0,
              "#0d0887"
             ],
             [
              0.1111111111111111,
              "#46039f"
             ],
             [
              0.2222222222222222,
              "#7201a8"
             ],
             [
              0.3333333333333333,
              "#9c179e"
             ],
             [
              0.4444444444444444,
              "#bd3786"
             ],
             [
              0.5555555555555556,
              "#d8576b"
             ],
             [
              0.6666666666666666,
              "#ed7953"
             ],
             [
              0.7777777777777778,
              "#fb9f3a"
             ],
             [
              0.8888888888888888,
              "#fdca26"
             ],
             [
              1.0,
              "#f0f921"
             ]
            ],
            "type": "heatmapgl"
           }
          ],
          "histogram": [
           {
            "marker": {
             "pattern": {
              "fillmode": "overlay",
              "size": 10,
              "solidity": 0.2
             }
            },
            "type": "histogram"
           }
          ],
          "histogram2d": [
           {
            "colorbar": {
             "outlinewidth": 0,
             "ticks": ""
            },
            "colorscale": [
             [
              0.0,
              "#0d0887"
             ],
             [
              0.1111111111111111,
              "#46039f"
             ],
             [
              0.2222222222222222,
              "#7201a8"
             ],
             [
              0.3333333333333333,
              "#9c179e"
             ],
             [
              0.4444444444444444,
              "#bd3786"
             ],
             [
              0.5555555555555556,
              "#d8576b"
             ],
             [
              0.6666666666666666,
              "#ed7953"
             ],
             [
              0.7777777777777778,
              "#fb9f3a"
             ],
             [
              0.8888888888888888,
              "#fdca26"
             ],
             [
              1.0,
              "#f0f921"
             ]
            ],
            "type": "histogram2d"
           }
          ],
          "histogram2dcontour": [
           {
            "colorbar": {
             "outlinewidth": 0,
             "ticks": ""
            },
            "colorscale": [
             [
              0.0,
              "#0d0887"
             ],
             [
              0.1111111111111111,
              "#46039f"
             ],
             [
              0.2222222222222222,
              "#7201a8"
             ],
             [
              0.3333333333333333,
              "#9c179e"
             ],
             [
              0.4444444444444444,
              "#bd3786"
             ],
             [
              0.5555555555555556,
              "#d8576b"
             ],
             [
              0.6666666666666666,
              "#ed7953"
             ],
             [
              0.7777777777777778,
              "#fb9f3a"
             ],
             [
              0.8888888888888888,
              "#fdca26"
             ],
             [
              1.0,
              "#f0f921"
             ]
            ],
            "type": "histogram2dcontour"
           }
          ],
          "mesh3d": [
           {
            "colorbar": {
             "outlinewidth": 0,
             "ticks": ""
            },
            "type": "mesh3d"
           }
          ],
          "parcoords": [
           {
            "line": {
             "colorbar": {
              "outlinewidth": 0,
              "ticks": ""
             }
            },
            "type": "parcoords"
           }
          ],
          "pie": [
           {
            "automargin": true,
            "type": "pie"
           }
          ],
          "scatter": [
           {
            "fillpattern": {
             "fillmode": "overlay",
             "size": 10,
             "solidity": 0.2
            },
            "type": "scatter"
           }
          ],
          "scatter3d": [
           {
            "line": {
             "colorbar": {
              "outlinewidth": 0,
              "ticks": ""
             }
            },
            "marker": {
             "colorbar": {
              "outlinewidth": 0,
              "ticks": ""
             }
            },
            "type": "scatter3d"
           }
          ],
          "scattercarpet": [
           {
            "marker": {
             "colorbar": {
              "outlinewidth": 0,
              "ticks": ""
             }
            },
            "type": "scattercarpet"
           }
          ],
          "scattergeo": [
           {
            "marker": {
             "colorbar": {
              "outlinewidth": 0,
              "ticks": ""
             }
            },
            "type": "scattergeo"
           }
          ],
          "scattergl": [
           {
            "marker": {
             "colorbar": {
              "outlinewidth": 0,
              "ticks": ""
             }
            },
            "type": "scattergl"
           }
          ],
          "scattermapbox": [
           {
            "marker": {
             "colorbar": {
              "outlinewidth": 0,
              "ticks": ""
             }
            },
            "type": "scattermapbox"
           }
          ],
          "scatterpolar": [
           {
            "marker": {
             "colorbar": {
              "outlinewidth": 0,
              "ticks": ""
             }
            },
            "type": "scatterpolar"
           }
          ],
          "scatterpolargl": [
           {
            "marker": {
             "colorbar": {
              "outlinewidth": 0,
              "ticks": ""
             }
            },
            "type": "scatterpolargl"
           }
          ],
          "scatterternary": [
           {
            "marker": {
             "colorbar": {
              "outlinewidth": 0,
              "ticks": ""
             }
            },
            "type": "scatterternary"
           }
          ],
          "surface": [
           {
            "colorbar": {
             "outlinewidth": 0,
             "ticks": ""
            },
            "colorscale": [
             [
              0.0,
              "#0d0887"
             ],
             [
              0.1111111111111111,
              "#46039f"
             ],
             [
              0.2222222222222222,
              "#7201a8"
             ],
             [
              0.3333333333333333,
              "#9c179e"
             ],
             [
              0.4444444444444444,
              "#bd3786"
             ],
             [
              0.5555555555555556,
              "#d8576b"
             ],
             [
              0.6666666666666666,
              "#ed7953"
             ],
             [
              0.7777777777777778,
              "#fb9f3a"
             ],
             [
              0.8888888888888888,
              "#fdca26"
             ],
             [
              1.0,
              "#f0f921"
             ]
            ],
            "type": "surface"
           }
          ],
          "table": [
           {
            "cells": {
             "fill": {
              "color": "#EBF0F8"
             },
             "line": {
              "color": "white"
             }
            },
            "header": {
             "fill": {
              "color": "#C8D4E3"
             },
             "line": {
              "color": "white"
             }
            },
            "type": "table"
           }
          ]
         },
         "layout": {
          "annotationdefaults": {
           "arrowcolor": "#2a3f5f",
           "arrowhead": 0,
           "arrowwidth": 1
          },
          "autotypenumbers": "strict",
          "coloraxis": {
           "colorbar": {
            "outlinewidth": 0,
            "ticks": ""
           }
          },
          "colorscale": {
           "diverging": [
            [
             0,
             "#8e0152"
            ],
            [
             0.1,
             "#c51b7d"
            ],
            [
             0.2,
             "#de77ae"
            ],
            [
             0.3,
             "#f1b6da"
            ],
            [
             0.4,
             "#fde0ef"
            ],
            [
             0.5,
             "#f7f7f7"
            ],
            [
             0.6,
             "#e6f5d0"
            ],
            [
             0.7,
             "#b8e186"
            ],
            [
             0.8,
             "#7fbc41"
            ],
            [
             0.9,
             "#4d9221"
            ],
            [
             1,
             "#276419"
            ]
           ],
           "sequential": [
            [
             0.0,
             "#0d0887"
            ],
            [
             0.1111111111111111,
             "#46039f"
            ],
            [
             0.2222222222222222,
             "#7201a8"
            ],
            [
             0.3333333333333333,
             "#9c179e"
            ],
            [
             0.4444444444444444,
             "#bd3786"
            ],
            [
             0.5555555555555556,
             "#d8576b"
            ],
            [
             0.6666666666666666,
             "#ed7953"
            ],
            [
             0.7777777777777778,
             "#fb9f3a"
            ],
            [
             0.8888888888888888,
             "#fdca26"
            ],
            [
             1.0,
             "#f0f921"
            ]
           ],
           "sequentialminus": [
            [
             0.0,
             "#0d0887"
            ],
            [
             0.1111111111111111,
             "#46039f"
            ],
            [
             0.2222222222222222,
             "#7201a8"
            ],
            [
             0.3333333333333333,
             "#9c179e"
            ],
            [
             0.4444444444444444,
             "#bd3786"
            ],
            [
             0.5555555555555556,
             "#d8576b"
            ],
            [
             0.6666666666666666,
             "#ed7953"
            ],
            [
             0.7777777777777778,
             "#fb9f3a"
            ],
            [
             0.8888888888888888,
             "#fdca26"
            ],
            [
             1.0,
             "#f0f921"
            ]
           ]
          },
          "colorway": [
           "#636efa",
           "#EF553B",
           "#00cc96",
           "#ab63fa",
           "#FFA15A",
           "#19d3f3",
           "#FF6692",
           "#B6E880",
           "#FF97FF",
           "#FECB52"
          ],
          "font": {
           "color": "#2a3f5f"
          },
          "geo": {
           "bgcolor": "white",
           "lakecolor": "white",
           "landcolor": "#E5ECF6",
           "showlakes": true,
           "showland": true,
           "subunitcolor": "white"
          },
          "hoverlabel": {
           "align": "left"
          },
          "hovermode": "closest",
          "mapbox": {
           "style": "light"
          },
          "paper_bgcolor": "white",
          "plot_bgcolor": "#E5ECF6",
          "polar": {
           "angularaxis": {
            "gridcolor": "white",
            "linecolor": "white",
            "ticks": ""
           },
           "bgcolor": "#E5ECF6",
           "radialaxis": {
            "gridcolor": "white",
            "linecolor": "white",
            "ticks": ""
           }
          },
          "scene": {
           "xaxis": {
            "backgroundcolor": "#E5ECF6",
            "gridcolor": "white",
            "gridwidth": 2,
            "linecolor": "white",
            "showbackground": true,
            "ticks": "",
            "zerolinecolor": "white"
           },
           "yaxis": {
            "backgroundcolor": "#E5ECF6",
            "gridcolor": "white",
            "gridwidth": 2,
            "linecolor": "white",
            "showbackground": true,
            "ticks": "",
            "zerolinecolor": "white"
           },
           "zaxis": {
            "backgroundcolor": "#E5ECF6",
            "gridcolor": "white",
            "gridwidth": 2,
            "linecolor": "white",
            "showbackground": true,
            "ticks": "",
            "zerolinecolor": "white"
           }
          },
          "shapedefaults": {
           "line": {
            "color": "#2a3f5f"
           }
          },
          "ternary": {
           "aaxis": {
            "gridcolor": "white",
            "linecolor": "white",
            "ticks": ""
           },
           "baxis": {
            "gridcolor": "white",
            "linecolor": "white",
            "ticks": ""
           },
           "bgcolor": "#E5ECF6",
           "caxis": {
            "gridcolor": "white",
            "linecolor": "white",
            "ticks": ""
           }
          },
          "title": {
           "x": 0.05
          },
          "xaxis": {
           "automargin": true,
           "gridcolor": "white",
           "linecolor": "white",
           "ticks": "",
           "title": {
            "standoff": 15
           },
           "zerolinecolor": "white",
           "zerolinewidth": 2
          },
          "yaxis": {
           "automargin": true,
           "gridcolor": "white",
           "linecolor": "white",
           "ticks": "",
           "title": {
            "standoff": 15
           },
           "zerolinecolor": "white",
           "zerolinewidth": 2
          }
         }
        },
        "title": {
         "text": "Worst Restaurant by Rating"
        },
        "xaxis": {
         "title": {
          "text": "Restaurant"
         }
        },
        "yaxis": {
         "title": {
          "text": "Rating"
         }
        }
       }
      },
      "text/html": [
       "<div>                            <div id=\"9c461df0-4282-4116-950a-5320fc3d3f74\" class=\"plotly-graph-div\" style=\"height:525px; width:100%;\"></div>            <script type=\"text/javascript\">                require([\"plotly\"], function(Plotly) {                    window.PLOTLYENV=window.PLOTLYENV || {};                                    if (document.getElementById(\"9c461df0-4282-4116-950a-5320fc3d3f74\")) {                    Plotly.newPlot(                        \"9c461df0-4282-4116-950a-5320fc3d3f74\",                        [{\"x\":[\"Hotel Zara Hi-Fi\",\"Asian Meal Box\",\"Pakwaan Grand\",\"Mathura Vilas\",\"Behrouz Biryani\",\"Shree Santosh Dhaba Family Restaurant\",\"The Chocolate Room\",\"KFC\",\"Club Rogue\",\"Desi Bytes\"],\"y\":[2.4,2.58,2.71,2.82,2.825,2.83,2.83,2.85,2.88,2.9],\"type\":\"bar\"}],                        {\"font\":{\"color\":\"white\"},\"paper_bgcolor\":\"gray\",\"plot_bgcolor\":\"black\",\"template\":{\"data\":{\"barpolar\":[{\"marker\":{\"line\":{\"color\":\"#E5ECF6\",\"width\":0.5},\"pattern\":{\"fillmode\":\"overlay\",\"size\":10,\"solidity\":0.2}},\"type\":\"barpolar\"}],\"bar\":[{\"error_x\":{\"color\":\"#2a3f5f\"},\"error_y\":{\"color\":\"#2a3f5f\"},\"marker\":{\"line\":{\"color\":\"#E5ECF6\",\"width\":0.5},\"pattern\":{\"fillmode\":\"overlay\",\"size\":10,\"solidity\":0.2}},\"type\":\"bar\"}],\"carpet\":[{\"aaxis\":{\"endlinecolor\":\"#2a3f5f\",\"gridcolor\":\"white\",\"linecolor\":\"white\",\"minorgridcolor\":\"white\",\"startlinecolor\":\"#2a3f5f\"},\"baxis\":{\"endlinecolor\":\"#2a3f5f\",\"gridcolor\":\"white\",\"linecolor\":\"white\",\"minorgridcolor\":\"white\",\"startlinecolor\":\"#2a3f5f\"},\"type\":\"carpet\"}],\"choropleth\":[{\"colorbar\":{\"outlinewidth\":0,\"ticks\":\"\"},\"type\":\"choropleth\"}],\"contourcarpet\":[{\"colorbar\":{\"outlinewidth\":0,\"ticks\":\"\"},\"type\":\"contourcarpet\"}],\"contour\":[{\"colorbar\":{\"outlinewidth\":0,\"ticks\":\"\"},\"colorscale\":[[0.0,\"#0d0887\"],[0.1111111111111111,\"#46039f\"],[0.2222222222222222,\"#7201a8\"],[0.3333333333333333,\"#9c179e\"],[0.4444444444444444,\"#bd3786\"],[0.5555555555555556,\"#d8576b\"],[0.6666666666666666,\"#ed7953\"],[0.7777777777777778,\"#fb9f3a\"],[0.8888888888888888,\"#fdca26\"],[1.0,\"#f0f921\"]],\"type\":\"contour\"}],\"heatmapgl\":[{\"colorbar\":{\"outlinewidth\":0,\"ticks\":\"\"},\"colorscale\":[[0.0,\"#0d0887\"],[0.1111111111111111,\"#46039f\"],[0.2222222222222222,\"#7201a8\"],[0.3333333333333333,\"#9c179e\"],[0.4444444444444444,\"#bd3786\"],[0.5555555555555556,\"#d8576b\"],[0.6666666666666666,\"#ed7953\"],[0.7777777777777778,\"#fb9f3a\"],[0.8888888888888888,\"#fdca26\"],[1.0,\"#f0f921\"]],\"type\":\"heatmapgl\"}],\"heatmap\":[{\"colorbar\":{\"outlinewidth\":0,\"ticks\":\"\"},\"colorscale\":[[0.0,\"#0d0887\"],[0.1111111111111111,\"#46039f\"],[0.2222222222222222,\"#7201a8\"],[0.3333333333333333,\"#9c179e\"],[0.4444444444444444,\"#bd3786\"],[0.5555555555555556,\"#d8576b\"],[0.6666666666666666,\"#ed7953\"],[0.7777777777777778,\"#fb9f3a\"],[0.8888888888888888,\"#fdca26\"],[1.0,\"#f0f921\"]],\"type\":\"heatmap\"}],\"histogram2dcontour\":[{\"colorbar\":{\"outlinewidth\":0,\"ticks\":\"\"},\"colorscale\":[[0.0,\"#0d0887\"],[0.1111111111111111,\"#46039f\"],[0.2222222222222222,\"#7201a8\"],[0.3333333333333333,\"#9c179e\"],[0.4444444444444444,\"#bd3786\"],[0.5555555555555556,\"#d8576b\"],[0.6666666666666666,\"#ed7953\"],[0.7777777777777778,\"#fb9f3a\"],[0.8888888888888888,\"#fdca26\"],[1.0,\"#f0f921\"]],\"type\":\"histogram2dcontour\"}],\"histogram2d\":[{\"colorbar\":{\"outlinewidth\":0,\"ticks\":\"\"},\"colorscale\":[[0.0,\"#0d0887\"],[0.1111111111111111,\"#46039f\"],[0.2222222222222222,\"#7201a8\"],[0.3333333333333333,\"#9c179e\"],[0.4444444444444444,\"#bd3786\"],[0.5555555555555556,\"#d8576b\"],[0.6666666666666666,\"#ed7953\"],[0.7777777777777778,\"#fb9f3a\"],[0.8888888888888888,\"#fdca26\"],[1.0,\"#f0f921\"]],\"type\":\"histogram2d\"}],\"histogram\":[{\"marker\":{\"pattern\":{\"fillmode\":\"overlay\",\"size\":10,\"solidity\":0.2}},\"type\":\"histogram\"}],\"mesh3d\":[{\"colorbar\":{\"outlinewidth\":0,\"ticks\":\"\"},\"type\":\"mesh3d\"}],\"parcoords\":[{\"line\":{\"colorbar\":{\"outlinewidth\":0,\"ticks\":\"\"}},\"type\":\"parcoords\"}],\"pie\":[{\"automargin\":true,\"type\":\"pie\"}],\"scatter3d\":[{\"line\":{\"colorbar\":{\"outlinewidth\":0,\"ticks\":\"\"}},\"marker\":{\"colorbar\":{\"outlinewidth\":0,\"ticks\":\"\"}},\"type\":\"scatter3d\"}],\"scattercarpet\":[{\"marker\":{\"colorbar\":{\"outlinewidth\":0,\"ticks\":\"\"}},\"type\":\"scattercarpet\"}],\"scattergeo\":[{\"marker\":{\"colorbar\":{\"outlinewidth\":0,\"ticks\":\"\"}},\"type\":\"scattergeo\"}],\"scattergl\":[{\"marker\":{\"colorbar\":{\"outlinewidth\":0,\"ticks\":\"\"}},\"type\":\"scattergl\"}],\"scattermapbox\":[{\"marker\":{\"colorbar\":{\"outlinewidth\":0,\"ticks\":\"\"}},\"type\":\"scattermapbox\"}],\"scatterpolargl\":[{\"marker\":{\"colorbar\":{\"outlinewidth\":0,\"ticks\":\"\"}},\"type\":\"scatterpolargl\"}],\"scatterpolar\":[{\"marker\":{\"colorbar\":{\"outlinewidth\":0,\"ticks\":\"\"}},\"type\":\"scatterpolar\"}],\"scatter\":[{\"fillpattern\":{\"fillmode\":\"overlay\",\"size\":10,\"solidity\":0.2},\"type\":\"scatter\"}],\"scatterternary\":[{\"marker\":{\"colorbar\":{\"outlinewidth\":0,\"ticks\":\"\"}},\"type\":\"scatterternary\"}],\"surface\":[{\"colorbar\":{\"outlinewidth\":0,\"ticks\":\"\"},\"colorscale\":[[0.0,\"#0d0887\"],[0.1111111111111111,\"#46039f\"],[0.2222222222222222,\"#7201a8\"],[0.3333333333333333,\"#9c179e\"],[0.4444444444444444,\"#bd3786\"],[0.5555555555555556,\"#d8576b\"],[0.6666666666666666,\"#ed7953\"],[0.7777777777777778,\"#fb9f3a\"],[0.8888888888888888,\"#fdca26\"],[1.0,\"#f0f921\"]],\"type\":\"surface\"}],\"table\":[{\"cells\":{\"fill\":{\"color\":\"#EBF0F8\"},\"line\":{\"color\":\"white\"}},\"header\":{\"fill\":{\"color\":\"#C8D4E3\"},\"line\":{\"color\":\"white\"}},\"type\":\"table\"}]},\"layout\":{\"annotationdefaults\":{\"arrowcolor\":\"#2a3f5f\",\"arrowhead\":0,\"arrowwidth\":1},\"autotypenumbers\":\"strict\",\"coloraxis\":{\"colorbar\":{\"outlinewidth\":0,\"ticks\":\"\"}},\"colorscale\":{\"diverging\":[[0,\"#8e0152\"],[0.1,\"#c51b7d\"],[0.2,\"#de77ae\"],[0.3,\"#f1b6da\"],[0.4,\"#fde0ef\"],[0.5,\"#f7f7f7\"],[0.6,\"#e6f5d0\"],[0.7,\"#b8e186\"],[0.8,\"#7fbc41\"],[0.9,\"#4d9221\"],[1,\"#276419\"]],\"sequential\":[[0.0,\"#0d0887\"],[0.1111111111111111,\"#46039f\"],[0.2222222222222222,\"#7201a8\"],[0.3333333333333333,\"#9c179e\"],[0.4444444444444444,\"#bd3786\"],[0.5555555555555556,\"#d8576b\"],[0.6666666666666666,\"#ed7953\"],[0.7777777777777778,\"#fb9f3a\"],[0.8888888888888888,\"#fdca26\"],[1.0,\"#f0f921\"]],\"sequentialminus\":[[0.0,\"#0d0887\"],[0.1111111111111111,\"#46039f\"],[0.2222222222222222,\"#7201a8\"],[0.3333333333333333,\"#9c179e\"],[0.4444444444444444,\"#bd3786\"],[0.5555555555555556,\"#d8576b\"],[0.6666666666666666,\"#ed7953\"],[0.7777777777777778,\"#fb9f3a\"],[0.8888888888888888,\"#fdca26\"],[1.0,\"#f0f921\"]]},\"colorway\":[\"#636efa\",\"#EF553B\",\"#00cc96\",\"#ab63fa\",\"#FFA15A\",\"#19d3f3\",\"#FF6692\",\"#B6E880\",\"#FF97FF\",\"#FECB52\"],\"font\":{\"color\":\"#2a3f5f\"},\"geo\":{\"bgcolor\":\"white\",\"lakecolor\":\"white\",\"landcolor\":\"#E5ECF6\",\"showlakes\":true,\"showland\":true,\"subunitcolor\":\"white\"},\"hoverlabel\":{\"align\":\"left\"},\"hovermode\":\"closest\",\"mapbox\":{\"style\":\"light\"},\"paper_bgcolor\":\"white\",\"plot_bgcolor\":\"#E5ECF6\",\"polar\":{\"angularaxis\":{\"gridcolor\":\"white\",\"linecolor\":\"white\",\"ticks\":\"\"},\"bgcolor\":\"#E5ECF6\",\"radialaxis\":{\"gridcolor\":\"white\",\"linecolor\":\"white\",\"ticks\":\"\"}},\"scene\":{\"xaxis\":{\"backgroundcolor\":\"#E5ECF6\",\"gridcolor\":\"white\",\"gridwidth\":2,\"linecolor\":\"white\",\"showbackground\":true,\"ticks\":\"\",\"zerolinecolor\":\"white\"},\"yaxis\":{\"backgroundcolor\":\"#E5ECF6\",\"gridcolor\":\"white\",\"gridwidth\":2,\"linecolor\":\"white\",\"showbackground\":true,\"ticks\":\"\",\"zerolinecolor\":\"white\"},\"zaxis\":{\"backgroundcolor\":\"#E5ECF6\",\"gridcolor\":\"white\",\"gridwidth\":2,\"linecolor\":\"white\",\"showbackground\":true,\"ticks\":\"\",\"zerolinecolor\":\"white\"}},\"shapedefaults\":{\"line\":{\"color\":\"#2a3f5f\"}},\"ternary\":{\"aaxis\":{\"gridcolor\":\"white\",\"linecolor\":\"white\",\"ticks\":\"\"},\"baxis\":{\"gridcolor\":\"white\",\"linecolor\":\"white\",\"ticks\":\"\"},\"bgcolor\":\"#E5ECF6\",\"caxis\":{\"gridcolor\":\"white\",\"linecolor\":\"white\",\"ticks\":\"\"}},\"title\":{\"x\":0.05},\"xaxis\":{\"automargin\":true,\"gridcolor\":\"white\",\"linecolor\":\"white\",\"ticks\":\"\",\"title\":{\"standoff\":15},\"zerolinecolor\":\"white\",\"zerolinewidth\":2},\"yaxis\":{\"automargin\":true,\"gridcolor\":\"white\",\"linecolor\":\"white\",\"ticks\":\"\",\"title\":{\"standoff\":15},\"zerolinecolor\":\"white\",\"zerolinewidth\":2}}},\"title\":{\"text\":\"Worst Restaurant by Rating\"},\"xaxis\":{\"title\":{\"text\":\"Restaurant\"}},\"yaxis\":{\"title\":{\"text\":\"Rating\"}}},                        {\"responsive\": true}                    ).then(function(){\n",
       "                            \n",
       "var gd = document.getElementById('9c461df0-4282-4116-950a-5320fc3d3f74');\n",
       "var x = new MutationObserver(function (mutations, observer) {{\n",
       "        var display = window.getComputedStyle(gd).display;\n",
       "        if (!display || display === 'none') {{\n",
       "            console.log([gd, 'removed!']);\n",
       "            Plotly.purge(gd);\n",
       "            observer.disconnect();\n",
       "        }}\n",
       "}});\n",
       "\n",
       "// Listen for the removal of the full notebook cells\n",
       "var notebookContainer = gd.closest('#notebook-container');\n",
       "if (notebookContainer) {{\n",
       "    x.observe(notebookContainer, {childList: true});\n",
       "}}\n",
       "\n",
       "// Listen for the clearing of the current output cell\n",
       "var outputEl = gd.closest('.output');\n",
       "if (outputEl) {{\n",
       "    x.observe(outputEl, {childList: true});\n",
       "}}\n",
       "\n",
       "                        })                };                });            </script>        </div>"
      ]
     },
     "metadata": {},
     "output_type": "display_data"
    }
   ],
   "source": [
    "bar_chart('Restaurant')"
   ]
  },
  {
   "cell_type": "markdown",
   "id": "9caee911",
   "metadata": {
    "papermill": {
     "duration": 0.025357,
     "end_time": "2023-09-04T02:25:45.326938",
     "exception": false,
     "start_time": "2023-09-04T02:25:45.301581",
     "status": "completed"
    },
    "tags": []
   },
   "source": [
    "## <b><div style='padding:15px;background-color:#005959;color:white;border-radius:40px;font-size:110%;text-align: center'>6  |  Preprocessing - Sentiment</div></b>"
   ]
  },
  {
   "cell_type": "code",
   "execution_count": 28,
   "id": "66d93d34",
   "metadata": {
    "execution": {
     "iopub.execute_input": "2023-09-04T02:25:45.381195Z",
     "iopub.status.busy": "2023-09-04T02:25:45.380836Z",
     "iopub.status.idle": "2023-09-04T02:25:45.397352Z",
     "shell.execute_reply": "2023-09-04T02:25:45.396230Z"
    },
    "papermill": {
     "duration": 0.046898,
     "end_time": "2023-09-04T02:25:45.399717",
     "exception": false,
     "start_time": "2023-09-04T02:25:45.352819",
     "status": "completed"
    },
    "tags": []
   },
   "outputs": [
    {
     "data": {
      "text/html": [
       "<div>\n",
       "<style scoped>\n",
       "    .dataframe tbody tr th:only-of-type {\n",
       "        vertical-align: middle;\n",
       "    }\n",
       "\n",
       "    .dataframe tbody tr th {\n",
       "        vertical-align: top;\n",
       "    }\n",
       "\n",
       "    .dataframe thead th {\n",
       "        text-align: right;\n",
       "    }\n",
       "</style>\n",
       "<table border=\"1\" class=\"dataframe\">\n",
       "  <thead>\n",
       "    <tr style=\"text-align: right;\">\n",
       "      <th></th>\n",
       "      <th>text</th>\n",
       "      <th>label</th>\n",
       "    </tr>\n",
       "  </thead>\n",
       "  <tbody>\n",
       "    <tr>\n",
       "      <th>0</th>\n",
       "      <td>The ambience was good, food was quite good . h...</td>\n",
       "      <td>5.0</td>\n",
       "    </tr>\n",
       "    <tr>\n",
       "      <th>1</th>\n",
       "      <td>Ambience is too good for a pleasant evening. S...</td>\n",
       "      <td>5.0</td>\n",
       "    </tr>\n",
       "    <tr>\n",
       "      <th>2</th>\n",
       "      <td>A must try.. great food great ambience. Thnx f...</td>\n",
       "      <td>5.0</td>\n",
       "    </tr>\n",
       "    <tr>\n",
       "      <th>3</th>\n",
       "      <td>Soumen das and Arun was a great guy. Only beca...</td>\n",
       "      <td>5.0</td>\n",
       "    </tr>\n",
       "    <tr>\n",
       "      <th>4</th>\n",
       "      <td>Food is good.we ordered Kodi drumsticks and ba...</td>\n",
       "      <td>5.0</td>\n",
       "    </tr>\n",
       "    <tr>\n",
       "      <th>...</th>\n",
       "      <td>...</td>\n",
       "      <td>...</td>\n",
       "    </tr>\n",
       "    <tr>\n",
       "      <th>9995</th>\n",
       "      <td>Madhumathi Mahajan Well to start with nice cou...</td>\n",
       "      <td>3.0</td>\n",
       "    </tr>\n",
       "    <tr>\n",
       "      <th>9996</th>\n",
       "      <td>This place has never disappointed us.. The foo...</td>\n",
       "      <td>4.5</td>\n",
       "    </tr>\n",
       "    <tr>\n",
       "      <th>9997</th>\n",
       "      <td>Bad rating is mainly because of \"Chicken Bone ...</td>\n",
       "      <td>1.5</td>\n",
       "    </tr>\n",
       "    <tr>\n",
       "      <th>9998</th>\n",
       "      <td>I personally love and prefer Chinese Food. Had...</td>\n",
       "      <td>4.0</td>\n",
       "    </tr>\n",
       "    <tr>\n",
       "      <th>9999</th>\n",
       "      <td>Checked in here to try some delicious chinese ...</td>\n",
       "      <td>3.5</td>\n",
       "    </tr>\n",
       "  </tbody>\n",
       "</table>\n",
       "<p>9955 rows × 2 columns</p>\n",
       "</div>"
      ],
      "text/plain": [
       "                                                   text  label\n",
       "0     The ambience was good, food was quite good . h...    5.0\n",
       "1     Ambience is too good for a pleasant evening. S...    5.0\n",
       "2     A must try.. great food great ambience. Thnx f...    5.0\n",
       "3     Soumen das and Arun was a great guy. Only beca...    5.0\n",
       "4     Food is good.we ordered Kodi drumsticks and ba...    5.0\n",
       "...                                                 ...    ...\n",
       "9995  Madhumathi Mahajan Well to start with nice cou...    3.0\n",
       "9996  This place has never disappointed us.. The foo...    4.5\n",
       "9997  Bad rating is mainly because of \"Chicken Bone ...    1.5\n",
       "9998  I personally love and prefer Chinese Food. Had...    4.0\n",
       "9999  Checked in here to try some delicious chinese ...    3.5\n",
       "\n",
       "[9955 rows x 2 columns]"
      ]
     },
     "execution_count": 28,
     "metadata": {},
     "output_type": "execute_result"
    }
   ],
   "source": [
    "# Create a copy of the dataset with only columns Review and Rating \n",
    "df=df[['Review','Rating']].copy()\n",
    "\n",
    "# Rename columns\n",
    "df = df.rename(columns={'Review': 'text', 'Rating': 'label'})\n",
    "df"
   ]
  },
  {
   "cell_type": "code",
   "execution_count": 29,
   "id": "599c6854",
   "metadata": {
    "execution": {
     "iopub.execute_input": "2023-09-04T02:25:45.455906Z",
     "iopub.status.busy": "2023-09-04T02:25:45.455530Z",
     "iopub.status.idle": "2023-09-04T02:25:45.468560Z",
     "shell.execute_reply": "2023-09-04T02:25:45.467328Z"
    },
    "papermill": {
     "duration": 0.043329,
     "end_time": "2023-09-04T02:25:45.470463",
     "exception": false,
     "start_time": "2023-09-04T02:25:45.427134",
     "status": "completed"
    },
    "tags": []
   },
   "outputs": [
    {
     "name": "stdout",
     "output_type": "stream",
     "text": [
      "<class 'pandas.core.frame.DataFrame'>\n",
      "Index: 9955 entries, 0 to 9999\n",
      "Data columns (total 2 columns):\n",
      " #   Column  Non-Null Count  Dtype  \n",
      "---  ------  --------------  -----  \n",
      " 0   text    9955 non-null   object \n",
      " 1   label   9955 non-null   float64\n",
      "dtypes: float64(1), object(1)\n",
      "memory usage: 233.3+ KB\n"
     ]
    }
   ],
   "source": [
    "df.info()"
   ]
  },
  {
   "cell_type": "code",
   "execution_count": 30,
   "id": "a99bfbf8",
   "metadata": {
    "execution": {
     "iopub.execute_input": "2023-09-04T02:25:45.524561Z",
     "iopub.status.busy": "2023-09-04T02:25:45.524160Z",
     "iopub.status.idle": "2023-09-04T02:25:45.532277Z",
     "shell.execute_reply": "2023-09-04T02:25:45.531490Z"
    },
    "papermill": {
     "duration": 0.037441,
     "end_time": "2023-09-04T02:25:45.534297",
     "exception": false,
     "start_time": "2023-09-04T02:25:45.496856",
     "status": "completed"
    },
    "tags": []
   },
   "outputs": [
    {
     "data": {
      "text/plain": [
       "label\n",
       "5.0    3827\n",
       "4.0    2373\n",
       "1.0    1735\n",
       "3.0    1192\n",
       "2.0     684\n",
       "4.5      69\n",
       "3.5      47\n",
       "2.5      19\n",
       "1.5       9\n",
       "Name: count, dtype: int64"
      ]
     },
     "execution_count": 30,
     "metadata": {},
     "output_type": "execute_result"
    }
   ],
   "source": [
    "df.label.value_counts()"
   ]
  },
  {
   "cell_type": "code",
   "execution_count": 31,
   "id": "1c0a7b2c",
   "metadata": {
    "execution": {
     "iopub.execute_input": "2023-09-04T02:25:45.590432Z",
     "iopub.status.busy": "2023-09-04T02:25:45.589739Z",
     "iopub.status.idle": "2023-09-04T02:25:45.594352Z",
     "shell.execute_reply": "2023-09-04T02:25:45.593539Z"
    },
    "papermill": {
     "duration": 0.034933,
     "end_time": "2023-09-04T02:25:45.596421",
     "exception": false,
     "start_time": "2023-09-04T02:25:45.561488",
     "status": "completed"
    },
    "tags": []
   },
   "outputs": [],
   "source": [
    "# This function returns sentiment value based on:\n",
    "# label <= 3.0 -> Negative\n",
    "# label > 3.0 -> Positive\n",
    "\n",
    "\n",
    "def conv(row):\n",
    "    \n",
    "    if row['label'] <= 3.0:\n",
    "        val = 'Negative'\n",
    "    else: \n",
    "        val = 'Positive'\n",
    "    \n",
    "    return val"
   ]
  },
  {
   "cell_type": "code",
   "execution_count": 32,
   "id": "367c4bf7",
   "metadata": {
    "execution": {
     "iopub.execute_input": "2023-09-04T02:25:45.652239Z",
     "iopub.status.busy": "2023-09-04T02:25:45.651599Z",
     "iopub.status.idle": "2023-09-04T02:25:45.734578Z",
     "shell.execute_reply": "2023-09-04T02:25:45.733389Z"
    },
    "papermill": {
     "duration": 0.113918,
     "end_time": "2023-09-04T02:25:45.737166",
     "exception": false,
     "start_time": "2023-09-04T02:25:45.623248",
     "status": "completed"
    },
    "tags": []
   },
   "outputs": [
    {
     "data": {
      "text/html": [
       "<div>\n",
       "<style scoped>\n",
       "    .dataframe tbody tr th:only-of-type {\n",
       "        vertical-align: middle;\n",
       "    }\n",
       "\n",
       "    .dataframe tbody tr th {\n",
       "        vertical-align: top;\n",
       "    }\n",
       "\n",
       "    .dataframe thead th {\n",
       "        text-align: right;\n",
       "    }\n",
       "</style>\n",
       "<table border=\"1\" class=\"dataframe\">\n",
       "  <thead>\n",
       "    <tr style=\"text-align: right;\">\n",
       "      <th></th>\n",
       "      <th>text</th>\n",
       "      <th>label</th>\n",
       "    </tr>\n",
       "  </thead>\n",
       "  <tbody>\n",
       "    <tr>\n",
       "      <th>0</th>\n",
       "      <td>The ambience was good, food was quite good . h...</td>\n",
       "      <td>Positive</td>\n",
       "    </tr>\n",
       "    <tr>\n",
       "      <th>1</th>\n",
       "      <td>Ambience is too good for a pleasant evening. S...</td>\n",
       "      <td>Positive</td>\n",
       "    </tr>\n",
       "    <tr>\n",
       "      <th>2</th>\n",
       "      <td>A must try.. great food great ambience. Thnx f...</td>\n",
       "      <td>Positive</td>\n",
       "    </tr>\n",
       "    <tr>\n",
       "      <th>3</th>\n",
       "      <td>Soumen das and Arun was a great guy. Only beca...</td>\n",
       "      <td>Positive</td>\n",
       "    </tr>\n",
       "    <tr>\n",
       "      <th>4</th>\n",
       "      <td>Food is good.we ordered Kodi drumsticks and ba...</td>\n",
       "      <td>Positive</td>\n",
       "    </tr>\n",
       "    <tr>\n",
       "      <th>...</th>\n",
       "      <td>...</td>\n",
       "      <td>...</td>\n",
       "    </tr>\n",
       "    <tr>\n",
       "      <th>9995</th>\n",
       "      <td>Madhumathi Mahajan Well to start with nice cou...</td>\n",
       "      <td>Negative</td>\n",
       "    </tr>\n",
       "    <tr>\n",
       "      <th>9996</th>\n",
       "      <td>This place has never disappointed us.. The foo...</td>\n",
       "      <td>Positive</td>\n",
       "    </tr>\n",
       "    <tr>\n",
       "      <th>9997</th>\n",
       "      <td>Bad rating is mainly because of \"Chicken Bone ...</td>\n",
       "      <td>Negative</td>\n",
       "    </tr>\n",
       "    <tr>\n",
       "      <th>9998</th>\n",
       "      <td>I personally love and prefer Chinese Food. Had...</td>\n",
       "      <td>Positive</td>\n",
       "    </tr>\n",
       "    <tr>\n",
       "      <th>9999</th>\n",
       "      <td>Checked in here to try some delicious chinese ...</td>\n",
       "      <td>Positive</td>\n",
       "    </tr>\n",
       "  </tbody>\n",
       "</table>\n",
       "<p>9955 rows × 2 columns</p>\n",
       "</div>"
      ],
      "text/plain": [
       "                                                   text     label\n",
       "0     The ambience was good, food was quite good . h...  Positive\n",
       "1     Ambience is too good for a pleasant evening. S...  Positive\n",
       "2     A must try.. great food great ambience. Thnx f...  Positive\n",
       "3     Soumen das and Arun was a great guy. Only beca...  Positive\n",
       "4     Food is good.we ordered Kodi drumsticks and ba...  Positive\n",
       "...                                                 ...       ...\n",
       "9995  Madhumathi Mahajan Well to start with nice cou...  Negative\n",
       "9996  This place has never disappointed us.. The foo...  Positive\n",
       "9997  Bad rating is mainly because of \"Chicken Bone ...  Negative\n",
       "9998  I personally love and prefer Chinese Food. Had...  Positive\n",
       "9999  Checked in here to try some delicious chinese ...  Positive\n",
       "\n",
       "[9955 rows x 2 columns]"
      ]
     },
     "execution_count": 32,
     "metadata": {},
     "output_type": "execute_result"
    }
   ],
   "source": [
    "# Applying the function in our dataset\n",
    "df['label'] = df.apply(conv, axis=1)\n",
    "df"
   ]
  },
  {
   "cell_type": "code",
   "execution_count": 33,
   "id": "d88efd0f",
   "metadata": {
    "execution": {
     "iopub.execute_input": "2023-09-04T02:25:45.793682Z",
     "iopub.status.busy": "2023-09-04T02:25:45.792548Z",
     "iopub.status.idle": "2023-09-04T02:25:46.099667Z",
     "shell.execute_reply": "2023-09-04T02:25:46.098385Z"
    },
    "papermill": {
     "duration": 0.337578,
     "end_time": "2023-09-04T02:25:46.102071",
     "exception": false,
     "start_time": "2023-09-04T02:25:45.764493",
     "status": "completed"
    },
    "tags": []
   },
   "outputs": [
    {
     "data": {
      "image/png": "[encoded data removed]",
      "text/plain": [
       "<Figure size 640x480 with 1 Axes>"
      ]
     },
     "metadata": {},
     "output_type": "display_data"
    }
   ],
   "source": [
    "sns.countplot(x ='label', data = df)\n",
    " \n",
    "plt.show()"
   ]
  },
  {
   "cell_type": "code",
   "execution_count": 34,
   "id": "76e4c422",
   "metadata": {
    "execution": {
     "iopub.execute_input": "2023-09-04T02:25:46.158553Z",
     "iopub.status.busy": "2023-09-04T02:25:46.158019Z",
     "iopub.status.idle": "2023-09-04T02:26:04.282525Z",
     "shell.execute_reply": "2023-09-04T02:26:04.281632Z"
    },
    "papermill": {
     "duration": 18.157666,
     "end_time": "2023-09-04T02:26:04.287358",
     "exception": false,
     "start_time": "2023-09-04T02:25:46.129692",
     "status": "completed"
    },
    "tags": []
   },
   "outputs": [
    {
     "data": {
      "image/png": "[encoded data removed]",
      "text/plain": [
       "<Figure size 640x480 with 1 Axes>"
      ]
     },
     "metadata": {},
     "output_type": "display_data"
    }
   ],
   "source": [
    "# WordCloud - Sentiment Positive\n",
    "\n",
    "df1 = df[df['label']== 'Positive']\n",
    "words = ' '.join(df1['text'].astype(str))\n",
    "cleaned_word = ' '.join([word for word in words.split() if not word.startswith('@')])\n",
    "\n",
    "wordcloud = WordCloud(background_color='black',stopwords=STOPWORDS,\n",
    "                      width=3000, height=2500).generate(''.join(cleaned_word))\n",
    "plt.imshow(wordcloud)\n",
    "plt.axis('off')\n",
    "plt.show()"
   ]
  },
  {
   "cell_type": "code",
   "execution_count": 35,
   "id": "f9d7b701",
   "metadata": {
    "execution": {
     "iopub.execute_input": "2023-09-04T02:26:04.350418Z",
     "iopub.status.busy": "2023-09-04T02:26:04.350022Z",
     "iopub.status.idle": "2023-09-04T02:26:21.344434Z",
     "shell.execute_reply": "2023-09-04T02:26:21.342940Z"
    },
    "papermill": {
     "duration": 17.032395,
     "end_time": "2023-09-04T02:26:21.350499",
     "exception": false,
     "start_time": "2023-09-04T02:26:04.318104",
     "status": "completed"
    },
    "tags": []
   },
   "outputs": [
    {
     "data": {
      "image/png": "[encoded data removed]",
      "text/plain": [
       "<Figure size 640x480 with 1 Axes>"
      ]
     },
     "metadata": {},
     "output_type": "display_data"
    }
   ],
   "source": [
    "# WordCloud - Sentiment Negative\n",
    "\n",
    "df2 = df[df['label']=='Negative']\n",
    "words = ' '.join(df2['text'].astype(str))\n",
    "cleaned_word = ' '.join([word for word in words.split() if not word.startswith('@')])\n",
    "\n",
    "wordcloud = WordCloud(background_color='white',stopwords=STOPWORDS,\n",
    "                      width=3000, height=2500).generate(''.join(cleaned_word))\n",
    "plt.imshow(wordcloud)\n",
    "plt.axis('off')\n",
    "plt.show()"
   ]
  },
  {
   "cell_type": "markdown",
   "id": "5bbb87be",
   "metadata": {
    "papermill": {
     "duration": 0.036404,
     "end_time": "2023-09-04T02:26:21.421479",
     "exception": false,
     "start_time": "2023-09-04T02:26:21.385075",
     "status": "completed"
    },
    "tags": []
   },
   "source": [
    "**Cleaning label column**"
   ]
  },
  {
   "cell_type": "code",
   "execution_count": 36,
   "id": "94f65344",
   "metadata": {
    "execution": {
     "iopub.execute_input": "2023-09-04T02:26:21.496225Z",
     "iopub.status.busy": "2023-09-04T02:26:21.495412Z",
     "iopub.status.idle": "2023-09-04T02:26:21.501230Z",
     "shell.execute_reply": "2023-09-04T02:26:21.500469Z"
    },
    "papermill": {
     "duration": 0.043725,
     "end_time": "2023-09-04T02:26:21.503608",
     "exception": false,
     "start_time": "2023-09-04T02:26:21.459883",
     "status": "completed"
    },
    "tags": []
   },
   "outputs": [],
   "source": [
    "def tweet_to_words(tweet):\n",
    "    letters_only = re.sub('^[a-zA-Z]',' ',tweet)\n",
    "    words = letters_only.lower().split()\n",
    "    stops = set(stopwords.words('english'))\n",
    "    meaningful_word = [w for w in words if w not in stops]\n",
    "    return ' '.join(meaningful_word)"
   ]
  },
  {
   "cell_type": "code",
   "execution_count": 37,
   "id": "2ab1dc13",
   "metadata": {
    "execution": {
     "iopub.execute_input": "2023-09-04T02:26:21.580180Z",
     "iopub.status.busy": "2023-09-04T02:26:21.579392Z",
     "iopub.status.idle": "2023-09-04T02:26:21.585296Z",
     "shell.execute_reply": "2023-09-04T02:26:21.584567Z"
    },
    "papermill": {
     "duration": 0.048439,
     "end_time": "2023-09-04T02:26:21.587443",
     "exception": false,
     "start_time": "2023-09-04T02:26:21.539004",
     "status": "completed"
    },
    "tags": []
   },
   "outputs": [],
   "source": [
    "def tweet_len(tweet):\n",
    "    letters_only = re.sub('^[a-zA-Z]',' ',tweet)\n",
    "    words = letters_only.lower().split()\n",
    "    stops = set(stopwords.words('english'))\n",
    "    meaningful_word = [w for w in words if w not in stops]\n",
    "    return (len(meaningful_word))"
   ]
  },
  {
   "cell_type": "code",
   "execution_count": 38,
   "id": "1e912be8",
   "metadata": {
    "execution": {
     "iopub.execute_input": "2023-09-04T02:26:21.657377Z",
     "iopub.status.busy": "2023-09-04T02:26:21.656598Z",
     "iopub.status.idle": "2023-09-04T02:26:24.798189Z",
     "shell.execute_reply": "2023-09-04T02:26:24.797076Z"
    },
    "papermill": {
     "duration": 3.179642,
     "end_time": "2023-09-04T02:26:24.800857",
     "exception": false,
     "start_time": "2023-09-04T02:26:21.621215",
     "status": "completed"
    },
    "tags": []
   },
   "outputs": [],
   "source": [
    "df['labels'] = df['label'].apply(lambda x:0 if x=='negative' else 1)\n",
    "df['clean_tweet'] = df['text'].astype(str).apply(lambda x:tweet_to_words(x))\n",
    "df['tweet_length'] = df['text'].astype(str).apply(lambda x:tweet_len(x))\n",
    "train_data, test_data = train_test_split(df,test_size=0.2,random_state=123)"
   ]
  },
  {
   "cell_type": "code",
   "execution_count": 39,
   "id": "c97d97c9",
   "metadata": {
    "execution": {
     "iopub.execute_input": "2023-09-04T02:26:24.872590Z",
     "iopub.status.busy": "2023-09-04T02:26:24.871888Z",
     "iopub.status.idle": "2023-09-04T02:26:24.879787Z",
     "shell.execute_reply": "2023-09-04T02:26:24.878975Z"
    },
    "papermill": {
     "duration": 0.046389,
     "end_time": "2023-09-04T02:26:24.881924",
     "exception": false,
     "start_time": "2023-09-04T02:26:24.835535",
     "status": "completed"
    },
    "tags": []
   },
   "outputs": [],
   "source": [
    "train_clean_tweet = []\n",
    "for tweet in train_data['clean_tweet']:\n",
    "    train_clean_tweet.append(tweet)\n",
    "test_clean_tweet = []\n",
    "for tweet in test_data['clean_tweet']:\n",
    "    test_clean_tweet.append(tweet)"
   ]
  },
  {
   "cell_type": "code",
   "execution_count": 40,
   "id": "2efd7852",
   "metadata": {
    "execution": {
     "iopub.execute_input": "2023-09-04T02:26:24.952169Z",
     "iopub.status.busy": "2023-09-04T02:26:24.951475Z",
     "iopub.status.idle": "2023-09-04T02:26:25.268706Z",
     "shell.execute_reply": "2023-09-04T02:26:25.267722Z"
    },
    "papermill": {
     "duration": 0.354864,
     "end_time": "2023-09-04T02:26:25.271365",
     "exception": false,
     "start_time": "2023-09-04T02:26:24.916501",
     "status": "completed"
    },
    "tags": []
   },
   "outputs": [],
   "source": [
    "from sklearn.feature_extraction.text import CountVectorizer\n",
    "v = CountVectorizer(analyzer='word')\n",
    "train_features = v.fit_transform(train_clean_tweet)\n",
    "test_features = v.transform(test_clean_tweet)"
   ]
  },
  {
   "cell_type": "markdown",
   "id": "f022dcbd",
   "metadata": {
    "execution": {
     "iopub.execute_input": "2023-08-29T19:05:43.017216Z",
     "iopub.status.busy": "2023-08-29T19:05:43.016203Z",
     "iopub.status.idle": "2023-08-29T19:05:43.021445Z",
     "shell.execute_reply": "2023-08-29T19:05:43.020276Z",
     "shell.execute_reply.started": "2023-08-29T19:05:43.017181Z"
    },
    "papermill": {
     "duration": 0.03353,
     "end_time": "2023-09-04T02:26:25.338570",
     "exception": false,
     "start_time": "2023-09-04T02:26:25.305040",
     "status": "completed"
    },
    "tags": []
   },
   "source": [
    "## <b><div style='padding:15px;background-color:#005959;color:white;border-radius:40px;font-size:110%;text-align: center'>7  |  Model Built</div></b>"
   ]
  },
  {
   "cell_type": "code",
   "execution_count": 41,
   "id": "6f527b8a",
   "metadata": {
    "execution": {
     "iopub.execute_input": "2023-09-04T02:26:25.407864Z",
     "iopub.status.busy": "2023-09-04T02:26:25.407256Z",
     "iopub.status.idle": "2023-09-04T02:26:25.415099Z",
     "shell.execute_reply": "2023-09-04T02:26:25.414337Z"
    },
    "papermill": {
     "duration": 0.04508,
     "end_time": "2023-09-04T02:26:25.417172",
     "exception": false,
     "start_time": "2023-09-04T02:26:25.372092",
     "status": "completed"
    },
    "tags": []
   },
   "outputs": [],
   "source": [
    "Classifiers = [\n",
    "    LogisticRegression(C=0.000000001,solver='liblinear',max_iter=200),\n",
    "    KNeighborsClassifier(3),\n",
    "    DecisionTreeClassifier(),\n",
    "    RandomForestClassifier(n_estimators=200),\n",
    "    AdaBoostClassifier(),\n",
    "    GaussianNB(),\n",
    "    CatBoostClassifier(verbose=False),\n",
    "    SGDClassifier()]"
   ]
  },
  {
   "cell_type": "code",
   "execution_count": 42,
   "id": "0f68a950",
   "metadata": {
    "execution": {
     "iopub.execute_input": "2023-09-04T02:26:25.486176Z",
     "iopub.status.busy": "2023-09-04T02:26:25.485164Z",
     "iopub.status.idle": "2023-09-04T02:27:35.437390Z",
     "shell.execute_reply": "2023-09-04T02:27:35.426904Z"
    },
    "papermill": {
     "duration": 70.031766,
     "end_time": "2023-09-04T02:27:35.482295",
     "exception": false,
     "start_time": "2023-09-04T02:26:25.450529",
     "status": "completed"
    },
    "tags": []
   },
   "outputs": [
    {
     "name": "stdout",
     "output_type": "stream",
     "text": [
      "Accuracy of LogisticRegression is: 62.73229532898041%\n",
      "Accuracy of KNeighborsClassifier is: 71.12004018081366%\n",
      "Accuracy of DecisionTreeClassifier is: 77.3982923154194%\n",
      "Accuracy of RandomForestClassifier is: 85.53490708186841%\n",
      "Accuracy of AdaBoostClassifier is: 80.96433952787544%\n",
      "Accuracy of GaussianNB is: 58.6639879457559%\n",
      "Accuracy of CatBoostClassifier is: 84.83174284279256%\n",
      "Accuracy of SGDClassifier is: 83.8774485183325%\n"
     ]
    }
   ],
   "source": [
    "dense_features=train_features.toarray()\n",
    "dense_test= test_features.toarray()\n",
    "Accuracy=[]\n",
    "Model=[]\n",
    "for classifier in Classifiers:\n",
    "    try:\n",
    "        fit = classifier.fit(train_features,train_data['label'])\n",
    "        pred = fit.predict(test_features)\n",
    "    except Exception:\n",
    "        fit = classifier.fit(dense_features,train_data['label'])\n",
    "        pred = fit.predict(dense_test)\n",
    "    accuracy = accuracy_score(pred,test_data['label'])*100\n",
    "    Accuracy.append(accuracy)\n",
    "    Model.append(classifier.__class__.__name__)\n",
    "    print('Accuracy of '+classifier.__class__.__name__+' is: '+str(accuracy) + '%')"
   ]
  },
  {
   "cell_type": "code",
   "execution_count": 43,
   "id": "8679961d",
   "metadata": {
    "execution": {
     "iopub.execute_input": "2023-09-04T02:27:35.552847Z",
     "iopub.status.busy": "2023-09-04T02:27:35.552448Z",
     "iopub.status.idle": "2023-09-04T02:27:35.565195Z",
     "shell.execute_reply": "2023-09-04T02:27:35.564121Z"
    },
    "papermill": {
     "duration": 0.050717,
     "end_time": "2023-09-04T02:27:35.567343",
     "exception": false,
     "start_time": "2023-09-04T02:27:35.516626",
     "status": "completed"
    },
    "tags": []
   },
   "outputs": [
    {
     "data": {
      "text/html": [
       "<div>\n",
       "<style scoped>\n",
       "    .dataframe tbody tr th:only-of-type {\n",
       "        vertical-align: middle;\n",
       "    }\n",
       "\n",
       "    .dataframe tbody tr th {\n",
       "        vertical-align: top;\n",
       "    }\n",
       "\n",
       "    .dataframe thead th {\n",
       "        text-align: right;\n",
       "    }\n",
       "</style>\n",
       "<table border=\"1\" class=\"dataframe\">\n",
       "  <thead>\n",
       "    <tr style=\"text-align: right;\">\n",
       "      <th></th>\n",
       "      <th>Models</th>\n",
       "      <th>Accuracy</th>\n",
       "    </tr>\n",
       "  </thead>\n",
       "  <tbody>\n",
       "    <tr>\n",
       "      <th>3</th>\n",
       "      <td>RandomForestClassifier</td>\n",
       "      <td>85.534907</td>\n",
       "    </tr>\n",
       "    <tr>\n",
       "      <th>6</th>\n",
       "      <td>CatBoostClassifier</td>\n",
       "      <td>84.831743</td>\n",
       "    </tr>\n",
       "    <tr>\n",
       "      <th>7</th>\n",
       "      <td>SGDClassifier</td>\n",
       "      <td>83.877449</td>\n",
       "    </tr>\n",
       "    <tr>\n",
       "      <th>4</th>\n",
       "      <td>AdaBoostClassifier</td>\n",
       "      <td>80.964340</td>\n",
       "    </tr>\n",
       "    <tr>\n",
       "      <th>2</th>\n",
       "      <td>DecisionTreeClassifier</td>\n",
       "      <td>77.398292</td>\n",
       "    </tr>\n",
       "    <tr>\n",
       "      <th>1</th>\n",
       "      <td>KNeighborsClassifier</td>\n",
       "      <td>71.120040</td>\n",
       "    </tr>\n",
       "    <tr>\n",
       "      <th>0</th>\n",
       "      <td>LogisticRegression</td>\n",
       "      <td>62.732295</td>\n",
       "    </tr>\n",
       "    <tr>\n",
       "      <th>5</th>\n",
       "      <td>GaussianNB</td>\n",
       "      <td>58.663988</td>\n",
       "    </tr>\n",
       "  </tbody>\n",
       "</table>\n",
       "</div>"
      ],
      "text/plain": [
       "                   Models   Accuracy\n",
       "3  RandomForestClassifier  85.534907\n",
       "6      CatBoostClassifier  84.831743\n",
       "7           SGDClassifier  83.877449\n",
       "4      AdaBoostClassifier  80.964340\n",
       "2  DecisionTreeClassifier  77.398292\n",
       "1    KNeighborsClassifier  71.120040\n",
       "0      LogisticRegression  62.732295\n",
       "5              GaussianNB  58.663988"
      ]
     },
     "execution_count": 43,
     "metadata": {},
     "output_type": "execute_result"
    }
   ],
   "source": [
    "result = pd.DataFrame({'Models':Model})\n",
    "result['Accuracy'] = Accuracy\n",
    "result = result.sort_values(by='Accuracy',ascending=False)\n",
    "result"
   ]
  },
  {
   "cell_type": "code",
   "execution_count": 44,
   "id": "ccbd7334",
   "metadata": {
    "execution": {
     "iopub.execute_input": "2023-09-04T02:27:35.637752Z",
     "iopub.status.busy": "2023-09-04T02:27:35.637352Z",
     "iopub.status.idle": "2023-09-04T02:27:36.051925Z",
     "shell.execute_reply": "2023-09-04T02:27:36.050672Z"
    },
    "papermill": {
     "duration": 0.45305,
     "end_time": "2023-09-04T02:27:36.054681",
     "exception": false,
     "start_time": "2023-09-04T02:27:35.601631",
     "status": "completed"
    },
    "tags": []
   },
   "outputs": [
    {
     "data": {
      "image/png": "[encoded data removed]",
      "text/plain": [
       "<Figure size 640x480 with 1 Axes>"
      ]
     },
     "metadata": {},
     "output_type": "display_data"
    }
   ],
   "source": [
    "sns.set()\n",
    "fig = plt.figure()\n",
    "ax = fig.add_axes([0,0,1,1])\n",
    "Models = ['RandomForestClassifier', 'CatBoostClassifier', 'SGDClassifier', 'AdaBoostClassifier',\n",
    "          'DecisionTreeClassifier', 'KNeighborsClassifier', 'LogisticRegression', 'GaussianNB']\n",
    "Accuracy= result['Accuracy']\n",
    "ax.bar(Models,Accuracy,color=['#4169e1', '#e1b941', '#e14169', '#69e141','#e141b9','#289f61','#456e92', '#ba727a']);\n",
    "for i in ax.patches:\n",
    "    ax.text(i.get_x()+.06, i.get_height()-3.0, str(round(i.get_height(),2))+ '%', fontsize=10, color='white')\n",
    "plt.title('Comparison of Different Classification Models');\n",
    "plt.ylabel('Accuracy');\n",
    "plt.xlabel('Classification Models')\n",
    "plt.xticks(rotation=90);"
   ]
  },
  {
   "cell_type": "markdown",
   "id": "18de49d0",
   "metadata": {
    "papermill": {
     "duration": 0.035972,
     "end_time": "2023-09-04T02:27:36.126389",
     "exception": false,
     "start_time": "2023-09-04T02:27:36.090417",
     "status": "completed"
    },
    "tags": []
   },
   "source": [
    "## <b><div style='padding:15px;background-color:#005959;color:white;border-radius:40px;font-size:110%;text-align: center'>If you liked it, please upvote. Thank you.</div></b>"
   ]
  }
 ],
 "kernelspec": {
  "display_name": "Python 3",
  "language": "python",
  "name": "python3"
 },
 "language_info": {
  "codemirror_mode": {
   "name": "ipython",
   "version": 3
  },
  "file_extension": ".py",
  "mimetype": "text/x-python",
  "name": "python",
  "nbconvert_exporter": "python",
  "pygments_lexer": "ipython3",
  "version": "3.6.4"
 },
 "metadata": {
  "kernelspec": {
   "display_name": "Python 3",
   "language": "python",
   "name": "python3"
  },
  "language_info": {
   "codemirror_mode": {
    "name": "ipython",
    "version": 3
   },
   "file_extension": ".py",
   "mimetype": "text/x-python",
   "name": "python",
   "nbconvert_exporter": "python",
   "pygments_lexer": "ipython3",
   "version": "3.10.12"
  },
  "papermill": {
   "default_parameters": {},
   "duration": 123.038868,
   "end_time": "2023-09-04T02:27:36.987368",
   "environment_variables": {},
   "exception": null,
   "input_path": "__notebook__.ipynb",
   "output_path": "__notebook__.ipynb",
   "parameters": {},
   "start_time": "2023-09-04T02:25:33.948500",
   "version": "2.4.0"
  }
 },
 "nbformat": 4,
 "nbformat_minor": 5
}
